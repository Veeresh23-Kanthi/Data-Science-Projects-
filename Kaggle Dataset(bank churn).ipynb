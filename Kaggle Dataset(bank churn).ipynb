{
 "cells": [
  {
   "cell_type": "code",
   "execution_count": 269,
   "id": "81fad77c",
   "metadata": {},
   "outputs": [],
   "source": [
    "import numpy as np\n",
    "import pandas as pd\n",
    "import matplotlib.pyplot as plt\n",
    "import seaborn as sns"
   ]
  },
  {
   "cell_type": "markdown",
   "id": "94e092aa",
   "metadata": {},
   "source": [
    "### Read The Dataset"
   ]
  },
  {
   "cell_type": "code",
   "execution_count": 270,
   "id": "cf362940",
   "metadata": {},
   "outputs": [
    {
     "data": {
      "text/html": [
       "<div>\n",
       "<style scoped>\n",
       "    .dataframe tbody tr th:only-of-type {\n",
       "        vertical-align: middle;\n",
       "    }\n",
       "\n",
       "    .dataframe tbody tr th {\n",
       "        vertical-align: top;\n",
       "    }\n",
       "\n",
       "    .dataframe thead th {\n",
       "        text-align: right;\n",
       "    }\n",
       "</style>\n",
       "<table border=\"1\" class=\"dataframe\">\n",
       "  <thead>\n",
       "    <tr style=\"text-align: right;\">\n",
       "      <th></th>\n",
       "      <th>id</th>\n",
       "      <th>CustomerId</th>\n",
       "      <th>Surname</th>\n",
       "      <th>CreditScore</th>\n",
       "      <th>Geography</th>\n",
       "      <th>Gender</th>\n",
       "      <th>Age</th>\n",
       "      <th>Tenure</th>\n",
       "      <th>Balance</th>\n",
       "      <th>NumOfProducts</th>\n",
       "      <th>HasCrCard</th>\n",
       "      <th>IsActiveMember</th>\n",
       "      <th>EstimatedSalary</th>\n",
       "      <th>Exited</th>\n",
       "    </tr>\n",
       "  </thead>\n",
       "  <tbody>\n",
       "    <tr>\n",
       "      <th>0</th>\n",
       "      <td>0</td>\n",
       "      <td>15674932</td>\n",
       "      <td>Okwudilichukwu</td>\n",
       "      <td>668</td>\n",
       "      <td>France</td>\n",
       "      <td>Male</td>\n",
       "      <td>33.0</td>\n",
       "      <td>3</td>\n",
       "      <td>0.00</td>\n",
       "      <td>2</td>\n",
       "      <td>1.0</td>\n",
       "      <td>0.0</td>\n",
       "      <td>181449.97</td>\n",
       "      <td>0</td>\n",
       "    </tr>\n",
       "    <tr>\n",
       "      <th>1</th>\n",
       "      <td>1</td>\n",
       "      <td>15749177</td>\n",
       "      <td>Okwudiliolisa</td>\n",
       "      <td>627</td>\n",
       "      <td>France</td>\n",
       "      <td>Male</td>\n",
       "      <td>33.0</td>\n",
       "      <td>1</td>\n",
       "      <td>0.00</td>\n",
       "      <td>2</td>\n",
       "      <td>1.0</td>\n",
       "      <td>1.0</td>\n",
       "      <td>49503.50</td>\n",
       "      <td>0</td>\n",
       "    </tr>\n",
       "    <tr>\n",
       "      <th>2</th>\n",
       "      <td>2</td>\n",
       "      <td>15694510</td>\n",
       "      <td>Hsueh</td>\n",
       "      <td>678</td>\n",
       "      <td>France</td>\n",
       "      <td>Male</td>\n",
       "      <td>40.0</td>\n",
       "      <td>10</td>\n",
       "      <td>0.00</td>\n",
       "      <td>2</td>\n",
       "      <td>1.0</td>\n",
       "      <td>0.0</td>\n",
       "      <td>184866.69</td>\n",
       "      <td>0</td>\n",
       "    </tr>\n",
       "    <tr>\n",
       "      <th>3</th>\n",
       "      <td>3</td>\n",
       "      <td>15741417</td>\n",
       "      <td>Kao</td>\n",
       "      <td>581</td>\n",
       "      <td>France</td>\n",
       "      <td>Male</td>\n",
       "      <td>34.0</td>\n",
       "      <td>2</td>\n",
       "      <td>148882.54</td>\n",
       "      <td>1</td>\n",
       "      <td>1.0</td>\n",
       "      <td>1.0</td>\n",
       "      <td>84560.88</td>\n",
       "      <td>0</td>\n",
       "    </tr>\n",
       "    <tr>\n",
       "      <th>4</th>\n",
       "      <td>4</td>\n",
       "      <td>15766172</td>\n",
       "      <td>Chiemenam</td>\n",
       "      <td>716</td>\n",
       "      <td>Spain</td>\n",
       "      <td>Male</td>\n",
       "      <td>33.0</td>\n",
       "      <td>5</td>\n",
       "      <td>0.00</td>\n",
       "      <td>2</td>\n",
       "      <td>1.0</td>\n",
       "      <td>1.0</td>\n",
       "      <td>15068.83</td>\n",
       "      <td>0</td>\n",
       "    </tr>\n",
       "  </tbody>\n",
       "</table>\n",
       "</div>"
      ],
      "text/plain": [
       "   id  CustomerId         Surname  CreditScore Geography Gender   Age  Tenure  \\\n",
       "0   0    15674932  Okwudilichukwu          668    France   Male  33.0       3   \n",
       "1   1    15749177   Okwudiliolisa          627    France   Male  33.0       1   \n",
       "2   2    15694510           Hsueh          678    France   Male  40.0      10   \n",
       "3   3    15741417             Kao          581    France   Male  34.0       2   \n",
       "4   4    15766172       Chiemenam          716     Spain   Male  33.0       5   \n",
       "\n",
       "     Balance  NumOfProducts  HasCrCard  IsActiveMember  EstimatedSalary  \\\n",
       "0       0.00              2        1.0             0.0        181449.97   \n",
       "1       0.00              2        1.0             1.0         49503.50   \n",
       "2       0.00              2        1.0             0.0        184866.69   \n",
       "3  148882.54              1        1.0             1.0         84560.88   \n",
       "4       0.00              2        1.0             1.0         15068.83   \n",
       "\n",
       "   Exited  \n",
       "0       0  \n",
       "1       0  \n",
       "2       0  \n",
       "3       0  \n",
       "4       0  "
      ]
     },
     "execution_count": 270,
     "metadata": {},
     "output_type": "execute_result"
    }
   ],
   "source": [
    "df=pd.read_csv(\"train.csv\")\n",
    "df.head()"
   ]
  },
  {
   "cell_type": "code",
   "execution_count": 271,
   "id": "30ba2f1f",
   "metadata": {},
   "outputs": [
    {
     "data": {
      "text/plain": [
       "(165034, 14)"
      ]
     },
     "execution_count": 271,
     "metadata": {},
     "output_type": "execute_result"
    }
   ],
   "source": [
    "df.shape"
   ]
  },
  {
   "cell_type": "code",
   "execution_count": 272,
   "id": "ebb5405c",
   "metadata": {},
   "outputs": [
    {
     "data": {
      "text/plain": [
       "Index(['id', 'CustomerId', 'CreditScore', 'Age', 'Tenure', 'Balance',\n",
       "       'NumOfProducts', 'HasCrCard', 'IsActiveMember', 'EstimatedSalary',\n",
       "       'Exited'],\n",
       "      dtype='object')"
      ]
     },
     "execution_count": 272,
     "metadata": {},
     "output_type": "execute_result"
    }
   ],
   "source": [
    "df.select_dtypes(include=np.number).columns"
   ]
  },
  {
   "cell_type": "code",
   "execution_count": 273,
   "id": "63fe2c17",
   "metadata": {},
   "outputs": [
    {
     "data": {
      "text/plain": [
       "Index(['Surname', 'Geography', 'Gender'], dtype='object')"
      ]
     },
     "execution_count": 273,
     "metadata": {},
     "output_type": "execute_result"
    }
   ],
   "source": [
    "df.select_dtypes(exclude=np.number).columns"
   ]
  },
  {
   "cell_type": "markdown",
   "id": "1fe67508",
   "metadata": {},
   "source": [
    "### check for the null values"
   ]
  },
  {
   "cell_type": "code",
   "execution_count": 274,
   "id": "2a79cca8",
   "metadata": {},
   "outputs": [
    {
     "data": {
      "text/plain": [
       "id                 0\n",
       "CustomerId         0\n",
       "Surname            0\n",
       "CreditScore        0\n",
       "Geography          0\n",
       "Gender             0\n",
       "Age                0\n",
       "Tenure             0\n",
       "Balance            0\n",
       "NumOfProducts      0\n",
       "HasCrCard          0\n",
       "IsActiveMember     0\n",
       "EstimatedSalary    0\n",
       "Exited             0\n",
       "dtype: int64"
      ]
     },
     "execution_count": 274,
     "metadata": {},
     "output_type": "execute_result"
    }
   ],
   "source": [
    "df.isnull().sum()"
   ]
  },
  {
   "cell_type": "code",
   "execution_count": 275,
   "id": "ce941d73",
   "metadata": {},
   "outputs": [],
   "source": [
    "### five point summary"
   ]
  },
  {
   "cell_type": "code",
   "execution_count": 276,
   "id": "203d0fd6",
   "metadata": {},
   "outputs": [
    {
     "data": {
      "text/html": [
       "<div>\n",
       "<style scoped>\n",
       "    .dataframe tbody tr th:only-of-type {\n",
       "        vertical-align: middle;\n",
       "    }\n",
       "\n",
       "    .dataframe tbody tr th {\n",
       "        vertical-align: top;\n",
       "    }\n",
       "\n",
       "    .dataframe thead th {\n",
       "        text-align: right;\n",
       "    }\n",
       "</style>\n",
       "<table border=\"1\" class=\"dataframe\">\n",
       "  <thead>\n",
       "    <tr style=\"text-align: right;\">\n",
       "      <th></th>\n",
       "      <th>id</th>\n",
       "      <th>CustomerId</th>\n",
       "      <th>CreditScore</th>\n",
       "      <th>Age</th>\n",
       "      <th>Tenure</th>\n",
       "      <th>Balance</th>\n",
       "      <th>NumOfProducts</th>\n",
       "      <th>HasCrCard</th>\n",
       "      <th>IsActiveMember</th>\n",
       "      <th>EstimatedSalary</th>\n",
       "      <th>Exited</th>\n",
       "    </tr>\n",
       "  </thead>\n",
       "  <tbody>\n",
       "    <tr>\n",
       "      <th>count</th>\n",
       "      <td>165034.0000</td>\n",
       "      <td>1.650340e+05</td>\n",
       "      <td>165034.000000</td>\n",
       "      <td>165034.000000</td>\n",
       "      <td>165034.000000</td>\n",
       "      <td>165034.000000</td>\n",
       "      <td>165034.000000</td>\n",
       "      <td>165034.000000</td>\n",
       "      <td>165034.000000</td>\n",
       "      <td>165034.000000</td>\n",
       "      <td>165034.000000</td>\n",
       "    </tr>\n",
       "    <tr>\n",
       "      <th>mean</th>\n",
       "      <td>82516.5000</td>\n",
       "      <td>1.569201e+07</td>\n",
       "      <td>656.454373</td>\n",
       "      <td>38.125888</td>\n",
       "      <td>5.020353</td>\n",
       "      <td>55478.086689</td>\n",
       "      <td>1.554455</td>\n",
       "      <td>0.753954</td>\n",
       "      <td>0.497770</td>\n",
       "      <td>112574.822734</td>\n",
       "      <td>0.211599</td>\n",
       "    </tr>\n",
       "    <tr>\n",
       "      <th>std</th>\n",
       "      <td>47641.3565</td>\n",
       "      <td>7.139782e+04</td>\n",
       "      <td>80.103340</td>\n",
       "      <td>8.867205</td>\n",
       "      <td>2.806159</td>\n",
       "      <td>62817.663278</td>\n",
       "      <td>0.547154</td>\n",
       "      <td>0.430707</td>\n",
       "      <td>0.499997</td>\n",
       "      <td>50292.865585</td>\n",
       "      <td>0.408443</td>\n",
       "    </tr>\n",
       "    <tr>\n",
       "      <th>min</th>\n",
       "      <td>0.0000</td>\n",
       "      <td>1.556570e+07</td>\n",
       "      <td>350.000000</td>\n",
       "      <td>18.000000</td>\n",
       "      <td>0.000000</td>\n",
       "      <td>0.000000</td>\n",
       "      <td>1.000000</td>\n",
       "      <td>0.000000</td>\n",
       "      <td>0.000000</td>\n",
       "      <td>11.580000</td>\n",
       "      <td>0.000000</td>\n",
       "    </tr>\n",
       "    <tr>\n",
       "      <th>25%</th>\n",
       "      <td>41258.2500</td>\n",
       "      <td>1.563314e+07</td>\n",
       "      <td>597.000000</td>\n",
       "      <td>32.000000</td>\n",
       "      <td>3.000000</td>\n",
       "      <td>0.000000</td>\n",
       "      <td>1.000000</td>\n",
       "      <td>1.000000</td>\n",
       "      <td>0.000000</td>\n",
       "      <td>74637.570000</td>\n",
       "      <td>0.000000</td>\n",
       "    </tr>\n",
       "    <tr>\n",
       "      <th>50%</th>\n",
       "      <td>82516.5000</td>\n",
       "      <td>1.569017e+07</td>\n",
       "      <td>659.000000</td>\n",
       "      <td>37.000000</td>\n",
       "      <td>5.000000</td>\n",
       "      <td>0.000000</td>\n",
       "      <td>2.000000</td>\n",
       "      <td>1.000000</td>\n",
       "      <td>0.000000</td>\n",
       "      <td>117948.000000</td>\n",
       "      <td>0.000000</td>\n",
       "    </tr>\n",
       "    <tr>\n",
       "      <th>75%</th>\n",
       "      <td>123774.7500</td>\n",
       "      <td>1.575682e+07</td>\n",
       "      <td>710.000000</td>\n",
       "      <td>42.000000</td>\n",
       "      <td>7.000000</td>\n",
       "      <td>119939.517500</td>\n",
       "      <td>2.000000</td>\n",
       "      <td>1.000000</td>\n",
       "      <td>1.000000</td>\n",
       "      <td>155152.467500</td>\n",
       "      <td>0.000000</td>\n",
       "    </tr>\n",
       "    <tr>\n",
       "      <th>max</th>\n",
       "      <td>165033.0000</td>\n",
       "      <td>1.581569e+07</td>\n",
       "      <td>850.000000</td>\n",
       "      <td>92.000000</td>\n",
       "      <td>10.000000</td>\n",
       "      <td>250898.090000</td>\n",
       "      <td>4.000000</td>\n",
       "      <td>1.000000</td>\n",
       "      <td>1.000000</td>\n",
       "      <td>199992.480000</td>\n",
       "      <td>1.000000</td>\n",
       "    </tr>\n",
       "  </tbody>\n",
       "</table>\n",
       "</div>"
      ],
      "text/plain": [
       "                id    CustomerId    CreditScore            Age         Tenure  \\\n",
       "count  165034.0000  1.650340e+05  165034.000000  165034.000000  165034.000000   \n",
       "mean    82516.5000  1.569201e+07     656.454373      38.125888       5.020353   \n",
       "std     47641.3565  7.139782e+04      80.103340       8.867205       2.806159   \n",
       "min         0.0000  1.556570e+07     350.000000      18.000000       0.000000   \n",
       "25%     41258.2500  1.563314e+07     597.000000      32.000000       3.000000   \n",
       "50%     82516.5000  1.569017e+07     659.000000      37.000000       5.000000   \n",
       "75%    123774.7500  1.575682e+07     710.000000      42.000000       7.000000   \n",
       "max    165033.0000  1.581569e+07     850.000000      92.000000      10.000000   \n",
       "\n",
       "             Balance  NumOfProducts      HasCrCard  IsActiveMember  \\\n",
       "count  165034.000000  165034.000000  165034.000000   165034.000000   \n",
       "mean    55478.086689       1.554455       0.753954        0.497770   \n",
       "std     62817.663278       0.547154       0.430707        0.499997   \n",
       "min         0.000000       1.000000       0.000000        0.000000   \n",
       "25%         0.000000       1.000000       1.000000        0.000000   \n",
       "50%         0.000000       2.000000       1.000000        0.000000   \n",
       "75%    119939.517500       2.000000       1.000000        1.000000   \n",
       "max    250898.090000       4.000000       1.000000        1.000000   \n",
       "\n",
       "       EstimatedSalary         Exited  \n",
       "count    165034.000000  165034.000000  \n",
       "mean     112574.822734       0.211599  \n",
       "std       50292.865585       0.408443  \n",
       "min          11.580000       0.000000  \n",
       "25%       74637.570000       0.000000  \n",
       "50%      117948.000000       0.000000  \n",
       "75%      155152.467500       0.000000  \n",
       "max      199992.480000       1.000000  "
      ]
     },
     "execution_count": 276,
     "metadata": {},
     "output_type": "execute_result"
    }
   ],
   "source": [
    "df.describe()"
   ]
  },
  {
   "cell_type": "code",
   "execution_count": 277,
   "id": "37066e3c",
   "metadata": {},
   "outputs": [
    {
     "data": {
      "text/plain": [
       "23221"
      ]
     },
     "execution_count": 277,
     "metadata": {},
     "output_type": "execute_result"
    }
   ],
   "source": [
    "df[\"CustomerId\"].nunique()"
   ]
  },
  {
   "cell_type": "code",
   "execution_count": 278,
   "id": "34efc626",
   "metadata": {},
   "outputs": [
    {
     "data": {
      "text/plain": [
       "165034"
      ]
     },
     "execution_count": 278,
     "metadata": {},
     "output_type": "execute_result"
    }
   ],
   "source": [
    "df[\"id\"].nunique()"
   ]
  },
  {
   "cell_type": "code",
   "execution_count": 279,
   "id": "85e804bd",
   "metadata": {},
   "outputs": [
    {
     "data": {
      "text/plain": [
       "141813"
      ]
     },
     "execution_count": 279,
     "metadata": {},
     "output_type": "execute_result"
    }
   ],
   "source": [
    "df.duplicated(subset='CustomerId').sum()"
   ]
  },
  {
   "cell_type": "code",
   "execution_count": 280,
   "id": "5aa7cd67",
   "metadata": {},
   "outputs": [],
   "source": [
    "df.drop(columns=\"id\",inplace=True)"
   ]
  },
  {
   "cell_type": "code",
   "execution_count": 281,
   "id": "72057b8b",
   "metadata": {},
   "outputs": [
    {
     "data": {
      "text/plain": [
       "France     94215\n",
       "Spain      36213\n",
       "Germany    34606\n",
       "Name: Geography, dtype: int64"
      ]
     },
     "execution_count": 281,
     "metadata": {},
     "output_type": "execute_result"
    }
   ],
   "source": [
    "df[\"Geography\"].value_counts()"
   ]
  },
  {
   "cell_type": "code",
   "execution_count": 282,
   "id": "ac0fc75a",
   "metadata": {},
   "outputs": [
    {
     "data": {
      "text/plain": [
       "Male      93150\n",
       "Female    71884\n",
       "Name: Gender, dtype: int64"
      ]
     },
     "execution_count": 282,
     "metadata": {},
     "output_type": "execute_result"
    }
   ],
   "source": [
    "df[\"Gender\"].value_counts()"
   ]
  },
  {
   "cell_type": "code",
   "execution_count": 283,
   "id": "e40aa8ff",
   "metadata": {},
   "outputs": [
    {
     "data": {
      "text/plain": [
       "Hsia         2456\n",
       "T'ien        2282\n",
       "Hs?          1611\n",
       "Kao          1577\n",
       "Maclean      1577\n",
       "             ... \n",
       "Samaniego       1\n",
       "Lawley          1\n",
       "Bonwick         1\n",
       "Tennant         1\n",
       "Elkins          1\n",
       "Name: Surname, Length: 2797, dtype: int64"
      ]
     },
     "execution_count": 283,
     "metadata": {},
     "output_type": "execute_result"
    }
   ],
   "source": [
    "df[\"Surname\"].value_counts()"
   ]
  },
  {
   "cell_type": "code",
   "execution_count": 284,
   "id": "9ff486d6",
   "metadata": {},
   "outputs": [
    {
     "data": {
      "text/plain": [
       "15682355    121\n",
       "15570194     99\n",
       "15585835     98\n",
       "15595588     91\n",
       "15648067     90\n",
       "           ... \n",
       "15635203      1\n",
       "15806982      1\n",
       "15691104      1\n",
       "15624936      1\n",
       "15815050      1\n",
       "Name: CustomerId, Length: 23221, dtype: int64"
      ]
     },
     "execution_count": 284,
     "metadata": {},
     "output_type": "execute_result"
    }
   ],
   "source": [
    "df[\"CustomerId\"].value_counts()"
   ]
  },
  {
   "cell_type": "markdown",
   "id": "76f8d842",
   "metadata": {},
   "source": [
    "### Visulisation"
   ]
  },
  {
   "cell_type": "code",
   "execution_count": 285,
   "id": "f2407470",
   "metadata": {},
   "outputs": [
    {
     "data": {
      "application/vnd.plotly.v1+json": {
       "config": {
        "plotlyServerURL": "https://plot.ly"
       },
       "data": [
        {
         "branchvalues": "total",
         "customdata": [
          [
           0
          ],
          [
           0
          ],
          [
           0
          ],
          [
           0
          ],
          [
           0
          ],
          [
           0
          ],
          [
           0
          ],
          [
           0
          ],
          [
           0
          ],
          [
           0
          ],
          [
           0
          ],
          [
           0
          ],
          [
           0
          ],
          [
           0
          ],
          [
           0
          ],
          [
           0
          ],
          [
           0
          ],
          [
           0
          ],
          [
           0
          ],
          [
           0
          ],
          [
           0
          ],
          [
           0
          ],
          [
           0
          ],
          [
           0
          ],
          [
           0
          ],
          [
           0
          ],
          [
           0
          ],
          [
           0
          ],
          [
           0
          ],
          [
           0
          ],
          [
           0
          ],
          [
           0
          ],
          [
           0
          ],
          [
           0
          ],
          [
           0
          ],
          [
           0
          ],
          [
           0
          ],
          [
           0
          ],
          [
           0
          ],
          [
           0
          ],
          [
           0
          ],
          [
           0
          ],
          [
           0
          ],
          [
           0
          ],
          [
           0
          ],
          [
           0
          ],
          [
           0
          ],
          [
           0
          ],
          [
           1
          ],
          [
           1
          ],
          [
           1
          ],
          [
           1
          ],
          [
           1
          ],
          [
           1
          ],
          [
           1
          ],
          [
           1
          ],
          [
           1
          ],
          [
           1
          ],
          [
           1
          ],
          [
           1
          ],
          [
           1
          ],
          [
           1
          ],
          [
           1
          ],
          [
           1
          ],
          [
           1
          ],
          [
           1
          ],
          [
           1
          ],
          [
           1
          ],
          [
           1
          ],
          [
           1
          ],
          [
           1
          ],
          [
           1
          ],
          [
           1
          ],
          [
           1
          ],
          [
           1
          ],
          [
           1
          ],
          [
           1
          ],
          [
           1
          ],
          [
           1
          ],
          [
           1
          ],
          [
           1
          ],
          [
           1
          ],
          [
           1
          ],
          [
           1
          ],
          [
           1
          ],
          [
           1
          ],
          [
           1
          ],
          [
           1
          ],
          [
           1
          ],
          [
           1
          ],
          [
           1
          ],
          [
           1
          ],
          [
           1
          ],
          [
           1
          ],
          [
           1
          ],
          [
           1
          ],
          [
           0.4946258161727775
          ],
          [
           0.6947229985204669
          ],
          [
           0.48436268068331145
          ],
          [
           0.30883509569168927
          ],
          [
           0.5359361135758651
          ],
          [
           0.32468714448236635
          ],
          [
           0.09549712904200665
          ],
          [
           0.25813692480359146
          ],
          [
           0.1035400585573596
          ],
          [
           0.047662437793509496
          ],
          [
           0.15778567199526347
          ],
          [
           0.05787781350482315
          ],
          [
           0.9376299376299376
          ],
          [
           0.9634464751958225
          ],
          [
           0.9393939393939394
          ],
          [
           0.8564231738035264
          ],
          [
           0.9444444444444444
          ],
          [
           0.8757396449704142
          ],
          [
           0.9210526315789473
          ],
          [
           0.9325842696629213
          ],
          [
           0.9545454545454546
          ],
          [
           0.8571428571428571
          ],
          [
           0.9649122807017544
          ],
          [
           0.9259259259259259
          ],
          [
           0.24441443653326786
          ],
          [
           0.424993921711646
          ],
          [
           0.23958011732016055
          ],
          [
           0.13315049102008317
          ],
          [
           0.25973210548346587
          ],
          [
           0.13909354766688994
          ],
          [
           0.03641431397230714
          ],
          [
           0.10835372247465921
          ],
          [
           0.03437932625749884
          ],
          [
           0.01920521802150018
          ],
          [
           0.061229740159506045
          ],
          [
           0.020352564102564103
          ],
          [
           0.7807017543859649
          ],
          [
           0.9144736842105263
          ],
          [
           0.847457627118644
          ],
          [
           0.6927083333333334
          ],
          [
           0.8157894736842105
          ],
          [
           0.7764705882352941
          ],
          [
           0.8536585365853658
          ],
          [
           0.9117647058823529
          ],
          [
           0.8571428571428571
          ],
          [
           0.6486486486486487
          ],
          [
           0.72
          ],
          [
           0.5454545454545454
          ],
          [
           0.3820230926468151
          ],
          [
           0.5859160455080423
          ],
          [
           0.3718057921635434
          ],
          [
           0.22153345643190012
          ],
          [
           0.40920003841352154
          ],
          [
           0.23101194500788821
          ],
          [
           0.06427858805643974
          ],
          [
           0.18070112034694616
          ],
          [
           0.06649363490297862
          ],
          [
           0.03237631792376318
          ],
          [
           0.10612525808671713
          ],
          [
           0.03756398022035222
          ],
          [
           0.8871650211565585
          ],
          [
           0.9495327102803738
          ],
          [
           0.9083094555873925
          ],
          [
           0.8030560271646859
          ],
          [
           0.9017467248908297
          ],
          [
           0.84251968503937
          ],
          [
           0.8974358974358975
          ],
          [
           0.926829268292683
          ],
          [
           0.9166666666666666
          ],
          [
           0.759493670886076
          ],
          [
           0.8902439024390244
          ],
          [
           0.8157894736842105
          ],
          [
           0.22518511106664
          ],
          [
           0.4635098852819136
          ],
          [
           0.22596649484536083
          ],
          [
           0.12113055181695828
          ],
          [
           0.302887254363816
          ],
          [
           0.13183202049002077
          ],
          [
           0.16528153691025846
          ],
          [
           0.3789516268855112
          ],
          [
           0.1721757379946428
          ]
         ],
         "domain": {
          "x": [
           0,
           1
          ],
          "y": [
           0,
           1
          ]
         },
         "hovertemplate": "labels=%{label}<br>count=%{value}<br>parent=%{parent}<br>id=%{id}<br>Exited=%{color}<extra></extra>",
         "ids": [
          "France/Female/1/0.0/0",
          "Germany/Female/1/0.0/0",
          "Spain/Female/1/0.0/0",
          "France/Male/1/0.0/0",
          "Germany/Male/1/0.0/0",
          "Spain/Male/1/0.0/0",
          "France/Female/2/0.0/0",
          "Germany/Female/2/0.0/0",
          "Spain/Female/2/0.0/0",
          "France/Male/2/0.0/0",
          "Germany/Male/2/0.0/0",
          "Spain/Male/2/0.0/0",
          "France/Female/3/0.0/0",
          "Germany/Female/3/0.0/0",
          "Spain/Female/3/0.0/0",
          "France/Male/3/0.0/0",
          "Germany/Male/3/0.0/0",
          "Spain/Male/3/0.0/0",
          "France/Female/4/0.0/0",
          "Germany/Female/4/0.0/0",
          "Spain/Female/4/0.0/0",
          "France/Male/4/0.0/0",
          "Germany/Male/4/0.0/0",
          "Spain/Male/4/0.0/0",
          "France/Female/1/1.0/0",
          "Germany/Female/1/1.0/0",
          "Spain/Female/1/1.0/0",
          "France/Male/1/1.0/0",
          "Germany/Male/1/1.0/0",
          "Spain/Male/1/1.0/0",
          "France/Female/2/1.0/0",
          "Germany/Female/2/1.0/0",
          "Spain/Female/2/1.0/0",
          "France/Male/2/1.0/0",
          "Germany/Male/2/1.0/0",
          "Spain/Male/2/1.0/0",
          "France/Female/3/1.0/0",
          "Germany/Female/3/1.0/0",
          "Spain/Female/3/1.0/0",
          "France/Male/3/1.0/0",
          "Germany/Male/3/1.0/0",
          "Spain/Male/3/1.0/0",
          "France/Female/4/1.0/0",
          "Germany/Female/4/1.0/0",
          "Spain/Female/4/1.0/0",
          "France/Male/4/1.0/0",
          "Germany/Male/4/1.0/0",
          "Spain/Male/4/1.0/0",
          "France/Female/1/0.0/1",
          "Germany/Female/1/0.0/1",
          "Spain/Female/1/0.0/1",
          "France/Male/1/0.0/1",
          "Germany/Male/1/0.0/1",
          "Spain/Male/1/0.0/1",
          "France/Female/2/0.0/1",
          "Germany/Female/2/0.0/1",
          "Spain/Female/2/0.0/1",
          "France/Male/2/0.0/1",
          "Germany/Male/2/0.0/1",
          "Spain/Male/2/0.0/1",
          "France/Female/3/0.0/1",
          "Germany/Female/3/0.0/1",
          "Spain/Female/3/0.0/1",
          "France/Male/3/0.0/1",
          "Germany/Male/3/0.0/1",
          "Spain/Male/3/0.0/1",
          "France/Female/4/0.0/1",
          "Germany/Female/4/0.0/1",
          "Spain/Female/4/0.0/1",
          "France/Male/4/0.0/1",
          "Germany/Male/4/0.0/1",
          "Spain/Male/4/0.0/1",
          "France/Female/1/1.0/1",
          "Germany/Female/1/1.0/1",
          "Spain/Female/1/1.0/1",
          "France/Male/1/1.0/1",
          "Germany/Male/1/1.0/1",
          "Spain/Male/1/1.0/1",
          "France/Female/2/1.0/1",
          "Germany/Female/2/1.0/1",
          "Spain/Female/2/1.0/1",
          "France/Male/2/1.0/1",
          "Germany/Male/2/1.0/1",
          "Spain/Male/2/1.0/1",
          "France/Female/3/1.0/1",
          "Germany/Female/3/1.0/1",
          "Spain/Female/3/1.0/1",
          "France/Male/3/1.0/1",
          "Germany/Male/3/1.0/1",
          "Spain/Male/3/1.0/1",
          "France/Female/4/1.0/1",
          "Germany/Female/4/1.0/1",
          "Spain/Female/4/1.0/1",
          "France/Male/4/1.0/1",
          "Germany/Male/4/1.0/1",
          "Spain/Male/4/1.0/1",
          "France/Female/1/0.0",
          "Germany/Female/1/0.0",
          "Spain/Female/1/0.0",
          "France/Male/1/0.0",
          "Germany/Male/1/0.0",
          "Spain/Male/1/0.0",
          "France/Female/2/0.0",
          "Germany/Female/2/0.0",
          "Spain/Female/2/0.0",
          "France/Male/2/0.0",
          "Germany/Male/2/0.0",
          "Spain/Male/2/0.0",
          "France/Female/3/0.0",
          "Germany/Female/3/0.0",
          "Spain/Female/3/0.0",
          "France/Male/3/0.0",
          "Germany/Male/3/0.0",
          "Spain/Male/3/0.0",
          "France/Female/4/0.0",
          "Germany/Female/4/0.0",
          "Spain/Female/4/0.0",
          "France/Male/4/0.0",
          "Germany/Male/4/0.0",
          "Spain/Male/4/0.0",
          "France/Female/1/1.0",
          "Germany/Female/1/1.0",
          "Spain/Female/1/1.0",
          "France/Male/1/1.0",
          "Germany/Male/1/1.0",
          "Spain/Male/1/1.0",
          "France/Female/2/1.0",
          "Germany/Female/2/1.0",
          "Spain/Female/2/1.0",
          "France/Male/2/1.0",
          "Germany/Male/2/1.0",
          "Spain/Male/2/1.0",
          "France/Female/3/1.0",
          "Germany/Female/3/1.0",
          "Spain/Female/3/1.0",
          "France/Male/3/1.0",
          "Germany/Male/3/1.0",
          "Spain/Male/3/1.0",
          "France/Female/4/1.0",
          "Germany/Female/4/1.0",
          "Spain/Female/4/1.0",
          "France/Male/4/1.0",
          "Germany/Male/4/1.0",
          "Spain/Male/4/1.0",
          "France/Female/1",
          "Germany/Female/1",
          "Spain/Female/1",
          "France/Male/1",
          "Germany/Male/1",
          "Spain/Male/1",
          "France/Female/2",
          "Germany/Female/2",
          "Spain/Female/2",
          "France/Male/2",
          "Germany/Male/2",
          "Spain/Male/2",
          "France/Female/3",
          "Germany/Female/3",
          "Spain/Female/3",
          "France/Male/3",
          "Germany/Male/3",
          "Spain/Male/3",
          "France/Female/4",
          "Germany/Female/4",
          "Spain/Female/4",
          "France/Male/4",
          "Germany/Male/4",
          "Spain/Male/4",
          "France/Female",
          "Germany/Female",
          "Spain/Female",
          "France/Male",
          "Germany/Male",
          "Spain/Male",
          "France",
          "Germany",
          "Spain"
         ],
         "labels": [
          "0",
          "0",
          "0",
          "0",
          "0",
          "0",
          "0",
          "0",
          "0",
          "0",
          "0",
          "0",
          "0",
          "0",
          "0",
          "0",
          "0",
          "0",
          "0",
          "0",
          "0",
          "0",
          "0",
          "0",
          "0",
          "0",
          "0",
          "0",
          "0",
          "0",
          "0",
          "0",
          "0",
          "0",
          "0",
          "0",
          "0",
          "0",
          "0",
          "0",
          "0",
          "0",
          "0",
          "0",
          "0",
          "0",
          "0",
          "0",
          "1",
          "1",
          "1",
          "1",
          "1",
          "1",
          "1",
          "1",
          "1",
          "1",
          "1",
          "1",
          "1",
          "1",
          "1",
          "1",
          "1",
          "1",
          "1",
          "1",
          "1",
          "1",
          "1",
          "1",
          "1",
          "1",
          "1",
          "1",
          "1",
          "1",
          "1",
          "1",
          "1",
          "1",
          "1",
          "1",
          "1",
          "1",
          "1",
          "1",
          "1",
          "1",
          "1",
          "1",
          "1",
          "1",
          "1",
          "1",
          "0.0",
          "0.0",
          "0.0",
          "0.0",
          "0.0",
          "0.0",
          "0.0",
          "0.0",
          "0.0",
          "0.0",
          "0.0",
          "0.0",
          "0.0",
          "0.0",
          "0.0",
          "0.0",
          "0.0",
          "0.0",
          "0.0",
          "0.0",
          "0.0",
          "0.0",
          "0.0",
          "0.0",
          "1.0",
          "1.0",
          "1.0",
          "1.0",
          "1.0",
          "1.0",
          "1.0",
          "1.0",
          "1.0",
          "1.0",
          "1.0",
          "1.0",
          "1.0",
          "1.0",
          "1.0",
          "1.0",
          "1.0",
          "1.0",
          "1.0",
          "1.0",
          "1.0",
          "1.0",
          "1.0",
          "1.0",
          "1",
          "1",
          "1",
          "1",
          "1",
          "1",
          "2",
          "2",
          "2",
          "2",
          "2",
          "2",
          "3",
          "3",
          "3",
          "3",
          "3",
          "3",
          "4",
          "4",
          "4",
          "4",
          "4",
          "4",
          "Female",
          "Female",
          "Female",
          "Male",
          "Male",
          "Male",
          "France",
          "Germany",
          "Spain"
         ],
         "marker": {
          "coloraxis": "coloraxis",
          "colors": [
           0,
           0,
           0,
           0,
           0,
           0,
           0,
           0,
           0,
           0,
           0,
           0,
           0,
           0,
           0,
           0,
           0,
           0,
           0,
           0,
           0,
           0,
           0,
           0,
           0,
           0,
           0,
           0,
           0,
           0,
           0,
           0,
           0,
           0,
           0,
           0,
           0,
           0,
           0,
           0,
           0,
           0,
           0,
           0,
           0,
           0,
           0,
           0,
           1,
           1,
           1,
           1,
           1,
           1,
           1,
           1,
           1,
           1,
           1,
           1,
           1,
           1,
           1,
           1,
           1,
           1,
           1,
           1,
           1,
           1,
           1,
           1,
           1,
           1,
           1,
           1,
           1,
           1,
           1,
           1,
           1,
           1,
           1,
           1,
           1,
           1,
           1,
           1,
           1,
           1,
           1,
           1,
           1,
           1,
           1,
           1,
           0.4946258161727775,
           0.6947229985204669,
           0.48436268068331145,
           0.30883509569168927,
           0.5359361135758651,
           0.32468714448236635,
           0.09549712904200665,
           0.25813692480359146,
           0.1035400585573596,
           0.047662437793509496,
           0.15778567199526347,
           0.05787781350482315,
           0.9376299376299376,
           0.9634464751958225,
           0.9393939393939394,
           0.8564231738035264,
           0.9444444444444444,
           0.8757396449704142,
           0.9210526315789473,
           0.9325842696629213,
           0.9545454545454546,
           0.8571428571428571,
           0.9649122807017544,
           0.9259259259259259,
           0.24441443653326786,
           0.424993921711646,
           0.23958011732016055,
           0.13315049102008317,
           0.25973210548346587,
           0.13909354766688994,
           0.03641431397230714,
           0.10835372247465921,
           0.03437932625749884,
           0.01920521802150018,
           0.061229740159506045,
           0.020352564102564103,
           0.7807017543859649,
           0.9144736842105263,
           0.847457627118644,
           0.6927083333333334,
           0.8157894736842105,
           0.7764705882352941,
           0.8536585365853658,
           0.9117647058823529,
           0.8571428571428571,
           0.6486486486486487,
           0.72,
           0.5454545454545454,
           0.3820230926468151,
           0.5859160455080423,
           0.3718057921635434,
           0.22153345643190012,
           0.40920003841352154,
           0.23101194500788821,
           0.06427858805643974,
           0.18070112034694616,
           0.06649363490297862,
           0.03237631792376318,
           0.10612525808671713,
           0.03756398022035222,
           0.8871650211565585,
           0.9495327102803738,
           0.9083094555873925,
           0.8030560271646859,
           0.9017467248908297,
           0.84251968503937,
           0.8974358974358975,
           0.926829268292683,
           0.9166666666666666,
           0.759493670886076,
           0.8902439024390244,
           0.8157894736842105,
           0.22518511106664,
           0.4635098852819136,
           0.22596649484536083,
           0.12113055181695828,
           0.302887254363816,
           0.13183202049002077,
           0.16528153691025846,
           0.3789516268855112,
           0.1721757379946428
          ]
         },
         "name": "",
         "parents": [
          "France/Female/1/0.0",
          "Germany/Female/1/0.0",
          "Spain/Female/1/0.0",
          "France/Male/1/0.0",
          "Germany/Male/1/0.0",
          "Spain/Male/1/0.0",
          "France/Female/2/0.0",
          "Germany/Female/2/0.0",
          "Spain/Female/2/0.0",
          "France/Male/2/0.0",
          "Germany/Male/2/0.0",
          "Spain/Male/2/0.0",
          "France/Female/3/0.0",
          "Germany/Female/3/0.0",
          "Spain/Female/3/0.0",
          "France/Male/3/0.0",
          "Germany/Male/3/0.0",
          "Spain/Male/3/0.0",
          "France/Female/4/0.0",
          "Germany/Female/4/0.0",
          "Spain/Female/4/0.0",
          "France/Male/4/0.0",
          "Germany/Male/4/0.0",
          "Spain/Male/4/0.0",
          "France/Female/1/1.0",
          "Germany/Female/1/1.0",
          "Spain/Female/1/1.0",
          "France/Male/1/1.0",
          "Germany/Male/1/1.0",
          "Spain/Male/1/1.0",
          "France/Female/2/1.0",
          "Germany/Female/2/1.0",
          "Spain/Female/2/1.0",
          "France/Male/2/1.0",
          "Germany/Male/2/1.0",
          "Spain/Male/2/1.0",
          "France/Female/3/1.0",
          "Germany/Female/3/1.0",
          "Spain/Female/3/1.0",
          "France/Male/3/1.0",
          "Germany/Male/3/1.0",
          "Spain/Male/3/1.0",
          "France/Female/4/1.0",
          "Germany/Female/4/1.0",
          "Spain/Female/4/1.0",
          "France/Male/4/1.0",
          "Germany/Male/4/1.0",
          "Spain/Male/4/1.0",
          "France/Female/1/0.0",
          "Germany/Female/1/0.0",
          "Spain/Female/1/0.0",
          "France/Male/1/0.0",
          "Germany/Male/1/0.0",
          "Spain/Male/1/0.0",
          "France/Female/2/0.0",
          "Germany/Female/2/0.0",
          "Spain/Female/2/0.0",
          "France/Male/2/0.0",
          "Germany/Male/2/0.0",
          "Spain/Male/2/0.0",
          "France/Female/3/0.0",
          "Germany/Female/3/0.0",
          "Spain/Female/3/0.0",
          "France/Male/3/0.0",
          "Germany/Male/3/0.0",
          "Spain/Male/3/0.0",
          "France/Female/4/0.0",
          "Germany/Female/4/0.0",
          "Spain/Female/4/0.0",
          "France/Male/4/0.0",
          "Germany/Male/4/0.0",
          "Spain/Male/4/0.0",
          "France/Female/1/1.0",
          "Germany/Female/1/1.0",
          "Spain/Female/1/1.0",
          "France/Male/1/1.0",
          "Germany/Male/1/1.0",
          "Spain/Male/1/1.0",
          "France/Female/2/1.0",
          "Germany/Female/2/1.0",
          "Spain/Female/2/1.0",
          "France/Male/2/1.0",
          "Germany/Male/2/1.0",
          "Spain/Male/2/1.0",
          "France/Female/3/1.0",
          "Germany/Female/3/1.0",
          "Spain/Female/3/1.0",
          "France/Male/3/1.0",
          "Germany/Male/3/1.0",
          "Spain/Male/3/1.0",
          "France/Female/4/1.0",
          "Germany/Female/4/1.0",
          "Spain/Female/4/1.0",
          "France/Male/4/1.0",
          "Germany/Male/4/1.0",
          "Spain/Male/4/1.0",
          "France/Female/1",
          "Germany/Female/1",
          "Spain/Female/1",
          "France/Male/1",
          "Germany/Male/1",
          "Spain/Male/1",
          "France/Female/2",
          "Germany/Female/2",
          "Spain/Female/2",
          "France/Male/2",
          "Germany/Male/2",
          "Spain/Male/2",
          "France/Female/3",
          "Germany/Female/3",
          "Spain/Female/3",
          "France/Male/3",
          "Germany/Male/3",
          "Spain/Male/3",
          "France/Female/4",
          "Germany/Female/4",
          "Spain/Female/4",
          "France/Male/4",
          "Germany/Male/4",
          "Spain/Male/4",
          "France/Female/1",
          "Germany/Female/1",
          "Spain/Female/1",
          "France/Male/1",
          "Germany/Male/1",
          "Spain/Male/1",
          "France/Female/2",
          "Germany/Female/2",
          "Spain/Female/2",
          "France/Male/2",
          "Germany/Male/2",
          "Spain/Male/2",
          "France/Female/3",
          "Germany/Female/3",
          "Spain/Female/3",
          "France/Male/3",
          "Germany/Male/3",
          "Spain/Male/3",
          "France/Female/4",
          "Germany/Female/4",
          "Spain/Female/4",
          "France/Male/4",
          "Germany/Male/4",
          "Spain/Male/4",
          "France/Female",
          "Germany/Female",
          "Spain/Female",
          "France/Male",
          "Germany/Male",
          "Spain/Male",
          "France/Female",
          "Germany/Female",
          "Spain/Female",
          "France/Male",
          "Germany/Male",
          "Spain/Male",
          "France/Female",
          "Germany/Female",
          "Spain/Female",
          "France/Male",
          "Germany/Male",
          "Spain/Male",
          "France/Female",
          "Germany/Female",
          "Spain/Female",
          "France/Male",
          "Germany/Male",
          "Spain/Male",
          "France",
          "Germany",
          "Spain",
          "France",
          "Germany",
          "Spain",
          "",
          "",
          ""
         ],
         "type": "sunburst",
         "values": [
          5031,
          1857,
          1962,
          7909,
          2615,
          2968,
          8979,
          1983,
          3368,
          13587,
          2845,
          4981,
          30,
          14,
          14,
          57,
          17,
          21,
          6,
          6,
          1,
          6,
          2,
          2,
          6155,
          2365,
          2463,
          9798,
          3537,
          3856,
          10717,
          2551,
          4185,
          16240,
          3649,
          6113,
          50,
          13,
          18,
          59,
          28,
          19,
          6,
          3,
          2,
          13,
          7,
          5,
          4924,
          4226,
          1843,
          3534,
          3020,
          1427,
          948,
          690,
          389,
          680,
          533,
          306,
          451,
          369,
          217,
          340,
          289,
          148,
          70,
          83,
          21,
          36,
          55,
          25,
          1991,
          1748,
          776,
          1505,
          1241,
          623,
          405,
          310,
          149,
          318,
          238,
          127,
          178,
          139,
          100,
          133,
          124,
          66,
          35,
          31,
          12,
          24,
          18,
          6,
          9955,
          6083,
          3805,
          11443,
          5635,
          4395,
          9927,
          2673,
          3757,
          14267,
          3378,
          5287,
          481,
          383,
          231,
          397,
          306,
          169,
          76,
          89,
          22,
          42,
          57,
          27,
          8146,
          4113,
          3239,
          11303,
          4778,
          4479,
          11122,
          2861,
          4334,
          16558,
          3887,
          6240,
          228,
          152,
          118,
          192,
          152,
          85,
          41,
          34,
          14,
          37,
          25,
          11,
          18101,
          10196,
          7044,
          22746,
          10413,
          8874,
          21049,
          5534,
          8091,
          30825,
          7265,
          11527,
          709,
          535,
          349,
          589,
          458,
          254,
          117,
          123,
          36,
          79,
          82,
          38,
          39976,
          16388,
          15520,
          54239,
          18218,
          20693,
          94215,
          34606,
          36213
         ]
        }
       ],
       "layout": {
        "coloraxis": {
         "colorbar": {
          "title": {
           "text": "Exited"
          }
         },
         "colorscale": [
          [
           0,
           "#0d0887"
          ],
          [
           0.1111111111111111,
           "#46039f"
          ],
          [
           0.2222222222222222,
           "#7201a8"
          ],
          [
           0.3333333333333333,
           "#9c179e"
          ],
          [
           0.4444444444444444,
           "#bd3786"
          ],
          [
           0.5555555555555556,
           "#d8576b"
          ],
          [
           0.6666666666666666,
           "#ed7953"
          ],
          [
           0.7777777777777778,
           "#fb9f3a"
          ],
          [
           0.8888888888888888,
           "#fdca26"
          ],
          [
           1,
           "#f0f921"
          ]
         ]
        },
        "height": 1200,
        "legend": {
         "tracegroupgap": 0
        },
        "margin": {
         "t": 60
        },
        "template": {
         "data": {
          "bar": [
           {
            "error_x": {
             "color": "#2a3f5f"
            },
            "error_y": {
             "color": "#2a3f5f"
            },
            "marker": {
             "line": {
              "color": "#E5ECF6",
              "width": 0.5
             },
             "pattern": {
              "fillmode": "overlay",
              "size": 10,
              "solidity": 0.2
             }
            },
            "type": "bar"
           }
          ],
          "barpolar": [
           {
            "marker": {
             "line": {
              "color": "#E5ECF6",
              "width": 0.5
             },
             "pattern": {
              "fillmode": "overlay",
              "size": 10,
              "solidity": 0.2
             }
            },
            "type": "barpolar"
           }
          ],
          "carpet": [
           {
            "aaxis": {
             "endlinecolor": "#2a3f5f",
             "gridcolor": "white",
             "linecolor": "white",
             "minorgridcolor": "white",
             "startlinecolor": "#2a3f5f"
            },
            "baxis": {
             "endlinecolor": "#2a3f5f",
             "gridcolor": "white",
             "linecolor": "white",
             "minorgridcolor": "white",
             "startlinecolor": "#2a3f5f"
            },
            "type": "carpet"
           }
          ],
          "choropleth": [
           {
            "colorbar": {
             "outlinewidth": 0,
             "ticks": ""
            },
            "type": "choropleth"
           }
          ],
          "contour": [
           {
            "colorbar": {
             "outlinewidth": 0,
             "ticks": ""
            },
            "colorscale": [
             [
              0,
              "#0d0887"
             ],
             [
              0.1111111111111111,
              "#46039f"
             ],
             [
              0.2222222222222222,
              "#7201a8"
             ],
             [
              0.3333333333333333,
              "#9c179e"
             ],
             [
              0.4444444444444444,
              "#bd3786"
             ],
             [
              0.5555555555555556,
              "#d8576b"
             ],
             [
              0.6666666666666666,
              "#ed7953"
             ],
             [
              0.7777777777777778,
              "#fb9f3a"
             ],
             [
              0.8888888888888888,
              "#fdca26"
             ],
             [
              1,
              "#f0f921"
             ]
            ],
            "type": "contour"
           }
          ],
          "contourcarpet": [
           {
            "colorbar": {
             "outlinewidth": 0,
             "ticks": ""
            },
            "type": "contourcarpet"
           }
          ],
          "heatmap": [
           {
            "colorbar": {
             "outlinewidth": 0,
             "ticks": ""
            },
            "colorscale": [
             [
              0,
              "#0d0887"
             ],
             [
              0.1111111111111111,
              "#46039f"
             ],
             [
              0.2222222222222222,
              "#7201a8"
             ],
             [
              0.3333333333333333,
              "#9c179e"
             ],
             [
              0.4444444444444444,
              "#bd3786"
             ],
             [
              0.5555555555555556,
              "#d8576b"
             ],
             [
              0.6666666666666666,
              "#ed7953"
             ],
             [
              0.7777777777777778,
              "#fb9f3a"
             ],
             [
              0.8888888888888888,
              "#fdca26"
             ],
             [
              1,
              "#f0f921"
             ]
            ],
            "type": "heatmap"
           }
          ],
          "heatmapgl": [
           {
            "colorbar": {
             "outlinewidth": 0,
             "ticks": ""
            },
            "colorscale": [
             [
              0,
              "#0d0887"
             ],
             [
              0.1111111111111111,
              "#46039f"
             ],
             [
              0.2222222222222222,
              "#7201a8"
             ],
             [
              0.3333333333333333,
              "#9c179e"
             ],
             [
              0.4444444444444444,
              "#bd3786"
             ],
             [
              0.5555555555555556,
              "#d8576b"
             ],
             [
              0.6666666666666666,
              "#ed7953"
             ],
             [
              0.7777777777777778,
              "#fb9f3a"
             ],
             [
              0.8888888888888888,
              "#fdca26"
             ],
             [
              1,
              "#f0f921"
             ]
            ],
            "type": "heatmapgl"
           }
          ],
          "histogram": [
           {
            "marker": {
             "pattern": {
              "fillmode": "overlay",
              "size": 10,
              "solidity": 0.2
             }
            },
            "type": "histogram"
           }
          ],
          "histogram2d": [
           {
            "colorbar": {
             "outlinewidth": 0,
             "ticks": ""
            },
            "colorscale": [
             [
              0,
              "#0d0887"
             ],
             [
              0.1111111111111111,
              "#46039f"
             ],
             [
              0.2222222222222222,
              "#7201a8"
             ],
             [
              0.3333333333333333,
              "#9c179e"
             ],
             [
              0.4444444444444444,
              "#bd3786"
             ],
             [
              0.5555555555555556,
              "#d8576b"
             ],
             [
              0.6666666666666666,
              "#ed7953"
             ],
             [
              0.7777777777777778,
              "#fb9f3a"
             ],
             [
              0.8888888888888888,
              "#fdca26"
             ],
             [
              1,
              "#f0f921"
             ]
            ],
            "type": "histogram2d"
           }
          ],
          "histogram2dcontour": [
           {
            "colorbar": {
             "outlinewidth": 0,
             "ticks": ""
            },
            "colorscale": [
             [
              0,
              "#0d0887"
             ],
             [
              0.1111111111111111,
              "#46039f"
             ],
             [
              0.2222222222222222,
              "#7201a8"
             ],
             [
              0.3333333333333333,
              "#9c179e"
             ],
             [
              0.4444444444444444,
              "#bd3786"
             ],
             [
              0.5555555555555556,
              "#d8576b"
             ],
             [
              0.6666666666666666,
              "#ed7953"
             ],
             [
              0.7777777777777778,
              "#fb9f3a"
             ],
             [
              0.8888888888888888,
              "#fdca26"
             ],
             [
              1,
              "#f0f921"
             ]
            ],
            "type": "histogram2dcontour"
           }
          ],
          "mesh3d": [
           {
            "colorbar": {
             "outlinewidth": 0,
             "ticks": ""
            },
            "type": "mesh3d"
           }
          ],
          "parcoords": [
           {
            "line": {
             "colorbar": {
              "outlinewidth": 0,
              "ticks": ""
             }
            },
            "type": "parcoords"
           }
          ],
          "pie": [
           {
            "automargin": true,
            "type": "pie"
           }
          ],
          "scatter": [
           {
            "fillpattern": {
             "fillmode": "overlay",
             "size": 10,
             "solidity": 0.2
            },
            "type": "scatter"
           }
          ],
          "scatter3d": [
           {
            "line": {
             "colorbar": {
              "outlinewidth": 0,
              "ticks": ""
             }
            },
            "marker": {
             "colorbar": {
              "outlinewidth": 0,
              "ticks": ""
             }
            },
            "type": "scatter3d"
           }
          ],
          "scattercarpet": [
           {
            "marker": {
             "colorbar": {
              "outlinewidth": 0,
              "ticks": ""
             }
            },
            "type": "scattercarpet"
           }
          ],
          "scattergeo": [
           {
            "marker": {
             "colorbar": {
              "outlinewidth": 0,
              "ticks": ""
             }
            },
            "type": "scattergeo"
           }
          ],
          "scattergl": [
           {
            "marker": {
             "colorbar": {
              "outlinewidth": 0,
              "ticks": ""
             }
            },
            "type": "scattergl"
           }
          ],
          "scattermapbox": [
           {
            "marker": {
             "colorbar": {
              "outlinewidth": 0,
              "ticks": ""
             }
            },
            "type": "scattermapbox"
           }
          ],
          "scatterpolar": [
           {
            "marker": {
             "colorbar": {
              "outlinewidth": 0,
              "ticks": ""
             }
            },
            "type": "scatterpolar"
           }
          ],
          "scatterpolargl": [
           {
            "marker": {
             "colorbar": {
              "outlinewidth": 0,
              "ticks": ""
             }
            },
            "type": "scatterpolargl"
           }
          ],
          "scatterternary": [
           {
            "marker": {
             "colorbar": {
              "outlinewidth": 0,
              "ticks": ""
             }
            },
            "type": "scatterternary"
           }
          ],
          "surface": [
           {
            "colorbar": {
             "outlinewidth": 0,
             "ticks": ""
            },
            "colorscale": [
             [
              0,
              "#0d0887"
             ],
             [
              0.1111111111111111,
              "#46039f"
             ],
             [
              0.2222222222222222,
              "#7201a8"
             ],
             [
              0.3333333333333333,
              "#9c179e"
             ],
             [
              0.4444444444444444,
              "#bd3786"
             ],
             [
              0.5555555555555556,
              "#d8576b"
             ],
             [
              0.6666666666666666,
              "#ed7953"
             ],
             [
              0.7777777777777778,
              "#fb9f3a"
             ],
             [
              0.8888888888888888,
              "#fdca26"
             ],
             [
              1,
              "#f0f921"
             ]
            ],
            "type": "surface"
           }
          ],
          "table": [
           {
            "cells": {
             "fill": {
              "color": "#EBF0F8"
             },
             "line": {
              "color": "white"
             }
            },
            "header": {
             "fill": {
              "color": "#C8D4E3"
             },
             "line": {
              "color": "white"
             }
            },
            "type": "table"
           }
          ]
         },
         "layout": {
          "annotationdefaults": {
           "arrowcolor": "#2a3f5f",
           "arrowhead": 0,
           "arrowwidth": 1
          },
          "autotypenumbers": "strict",
          "coloraxis": {
           "colorbar": {
            "outlinewidth": 0,
            "ticks": ""
           }
          },
          "colorscale": {
           "diverging": [
            [
             0,
             "#8e0152"
            ],
            [
             0.1,
             "#c51b7d"
            ],
            [
             0.2,
             "#de77ae"
            ],
            [
             0.3,
             "#f1b6da"
            ],
            [
             0.4,
             "#fde0ef"
            ],
            [
             0.5,
             "#f7f7f7"
            ],
            [
             0.6,
             "#e6f5d0"
            ],
            [
             0.7,
             "#b8e186"
            ],
            [
             0.8,
             "#7fbc41"
            ],
            [
             0.9,
             "#4d9221"
            ],
            [
             1,
             "#276419"
            ]
           ],
           "sequential": [
            [
             0,
             "#0d0887"
            ],
            [
             0.1111111111111111,
             "#46039f"
            ],
            [
             0.2222222222222222,
             "#7201a8"
            ],
            [
             0.3333333333333333,
             "#9c179e"
            ],
            [
             0.4444444444444444,
             "#bd3786"
            ],
            [
             0.5555555555555556,
             "#d8576b"
            ],
            [
             0.6666666666666666,
             "#ed7953"
            ],
            [
             0.7777777777777778,
             "#fb9f3a"
            ],
            [
             0.8888888888888888,
             "#fdca26"
            ],
            [
             1,
             "#f0f921"
            ]
           ],
           "sequentialminus": [
            [
             0,
             "#0d0887"
            ],
            [
             0.1111111111111111,
             "#46039f"
            ],
            [
             0.2222222222222222,
             "#7201a8"
            ],
            [
             0.3333333333333333,
             "#9c179e"
            ],
            [
             0.4444444444444444,
             "#bd3786"
            ],
            [
             0.5555555555555556,
             "#d8576b"
            ],
            [
             0.6666666666666666,
             "#ed7953"
            ],
            [
             0.7777777777777778,
             "#fb9f3a"
            ],
            [
             0.8888888888888888,
             "#fdca26"
            ],
            [
             1,
             "#f0f921"
            ]
           ]
          },
          "colorway": [
           "#636efa",
           "#EF553B",
           "#00cc96",
           "#ab63fa",
           "#FFA15A",
           "#19d3f3",
           "#FF6692",
           "#B6E880",
           "#FF97FF",
           "#FECB52"
          ],
          "font": {
           "color": "#2a3f5f"
          },
          "geo": {
           "bgcolor": "white",
           "lakecolor": "white",
           "landcolor": "#E5ECF6",
           "showlakes": true,
           "showland": true,
           "subunitcolor": "white"
          },
          "hoverlabel": {
           "align": "left"
          },
          "hovermode": "closest",
          "mapbox": {
           "style": "light"
          },
          "paper_bgcolor": "white",
          "plot_bgcolor": "#E5ECF6",
          "polar": {
           "angularaxis": {
            "gridcolor": "white",
            "linecolor": "white",
            "ticks": ""
           },
           "bgcolor": "#E5ECF6",
           "radialaxis": {
            "gridcolor": "white",
            "linecolor": "white",
            "ticks": ""
           }
          },
          "scene": {
           "xaxis": {
            "backgroundcolor": "#E5ECF6",
            "gridcolor": "white",
            "gridwidth": 2,
            "linecolor": "white",
            "showbackground": true,
            "ticks": "",
            "zerolinecolor": "white"
           },
           "yaxis": {
            "backgroundcolor": "#E5ECF6",
            "gridcolor": "white",
            "gridwidth": 2,
            "linecolor": "white",
            "showbackground": true,
            "ticks": "",
            "zerolinecolor": "white"
           },
           "zaxis": {
            "backgroundcolor": "#E5ECF6",
            "gridcolor": "white",
            "gridwidth": 2,
            "linecolor": "white",
            "showbackground": true,
            "ticks": "",
            "zerolinecolor": "white"
           }
          },
          "shapedefaults": {
           "line": {
            "color": "#2a3f5f"
           }
          },
          "ternary": {
           "aaxis": {
            "gridcolor": "white",
            "linecolor": "white",
            "ticks": ""
           },
           "baxis": {
            "gridcolor": "white",
            "linecolor": "white",
            "ticks": ""
           },
           "bgcolor": "#E5ECF6",
           "caxis": {
            "gridcolor": "white",
            "linecolor": "white",
            "ticks": ""
           }
          },
          "title": {
           "x": 0.05
          },
          "xaxis": {
           "automargin": true,
           "gridcolor": "white",
           "linecolor": "white",
           "ticks": "",
           "title": {
            "standoff": 15
           },
           "zerolinecolor": "white",
           "zerolinewidth": 2
          },
          "yaxis": {
           "automargin": true,
           "gridcolor": "white",
           "linecolor": "white",
           "ticks": "",
           "title": {
            "standoff": 15
           },
           "zerolinecolor": "white",
           "zerolinewidth": 2
          }
         }
        },
        "width": 1200
       }
      },
      "text/html": [
       "<div>                            <div id=\"3b497588-3b85-4862-90f0-5ac4fe983e9b\" class=\"plotly-graph-div\" style=\"height:1200px; width:1200px;\"></div>            <script type=\"text/javascript\">                require([\"plotly\"], function(Plotly) {                    window.PLOTLYENV=window.PLOTLYENV || {};                                    if (document.getElementById(\"3b497588-3b85-4862-90f0-5ac4fe983e9b\")) {                    Plotly.newPlot(                        \"3b497588-3b85-4862-90f0-5ac4fe983e9b\",                        [{\"branchvalues\":\"total\",\"customdata\":[[0.0],[0.0],[0.0],[0.0],[0.0],[0.0],[0.0],[0.0],[0.0],[0.0],[0.0],[0.0],[0.0],[0.0],[0.0],[0.0],[0.0],[0.0],[0.0],[0.0],[0.0],[0.0],[0.0],[0.0],[0.0],[0.0],[0.0],[0.0],[0.0],[0.0],[0.0],[0.0],[0.0],[0.0],[0.0],[0.0],[0.0],[0.0],[0.0],[0.0],[0.0],[0.0],[0.0],[0.0],[0.0],[0.0],[0.0],[0.0],[1.0],[1.0],[1.0],[1.0],[1.0],[1.0],[1.0],[1.0],[1.0],[1.0],[1.0],[1.0],[1.0],[1.0],[1.0],[1.0],[1.0],[1.0],[1.0],[1.0],[1.0],[1.0],[1.0],[1.0],[1.0],[1.0],[1.0],[1.0],[1.0],[1.0],[1.0],[1.0],[1.0],[1.0],[1.0],[1.0],[1.0],[1.0],[1.0],[1.0],[1.0],[1.0],[1.0],[1.0],[1.0],[1.0],[1.0],[1.0],[0.4946258161727775],[0.6947229985204669],[0.48436268068331145],[0.30883509569168927],[0.5359361135758651],[0.32468714448236635],[0.09549712904200665],[0.25813692480359146],[0.1035400585573596],[0.047662437793509496],[0.15778567199526347],[0.05787781350482315],[0.9376299376299376],[0.9634464751958225],[0.9393939393939394],[0.8564231738035264],[0.9444444444444444],[0.8757396449704142],[0.9210526315789473],[0.9325842696629213],[0.9545454545454546],[0.8571428571428571],[0.9649122807017544],[0.9259259259259259],[0.24441443653326786],[0.424993921711646],[0.23958011732016055],[0.13315049102008317],[0.25973210548346587],[0.13909354766688994],[0.03641431397230714],[0.10835372247465921],[0.03437932625749884],[0.01920521802150018],[0.061229740159506045],[0.020352564102564103],[0.7807017543859649],[0.9144736842105263],[0.847457627118644],[0.6927083333333334],[0.8157894736842105],[0.7764705882352941],[0.8536585365853658],[0.9117647058823529],[0.8571428571428571],[0.6486486486486487],[0.72],[0.5454545454545454],[0.3820230926468151],[0.5859160455080423],[0.3718057921635434],[0.22153345643190012],[0.40920003841352154],[0.23101194500788821],[0.06427858805643974],[0.18070112034694616],[0.06649363490297862],[0.03237631792376318],[0.10612525808671713],[0.03756398022035222],[0.8871650211565585],[0.9495327102803738],[0.9083094555873925],[0.8030560271646859],[0.9017467248908297],[0.84251968503937],[0.8974358974358975],[0.926829268292683],[0.9166666666666666],[0.759493670886076],[0.8902439024390244],[0.8157894736842105],[0.22518511106664],[0.4635098852819136],[0.22596649484536083],[0.12113055181695828],[0.302887254363816],[0.13183202049002077],[0.16528153691025846],[0.3789516268855112],[0.1721757379946428]],\"domain\":{\"x\":[0.0,1.0],\"y\":[0.0,1.0]},\"hovertemplate\":\"labels=%{label}<br>count=%{value}<br>parent=%{parent}<br>id=%{id}<br>Exited=%{color}<extra></extra>\",\"ids\":[\"France/Female/1/0.0/0\",\"Germany/Female/1/0.0/0\",\"Spain/Female/1/0.0/0\",\"France/Male/1/0.0/0\",\"Germany/Male/1/0.0/0\",\"Spain/Male/1/0.0/0\",\"France/Female/2/0.0/0\",\"Germany/Female/2/0.0/0\",\"Spain/Female/2/0.0/0\",\"France/Male/2/0.0/0\",\"Germany/Male/2/0.0/0\",\"Spain/Male/2/0.0/0\",\"France/Female/3/0.0/0\",\"Germany/Female/3/0.0/0\",\"Spain/Female/3/0.0/0\",\"France/Male/3/0.0/0\",\"Germany/Male/3/0.0/0\",\"Spain/Male/3/0.0/0\",\"France/Female/4/0.0/0\",\"Germany/Female/4/0.0/0\",\"Spain/Female/4/0.0/0\",\"France/Male/4/0.0/0\",\"Germany/Male/4/0.0/0\",\"Spain/Male/4/0.0/0\",\"France/Female/1/1.0/0\",\"Germany/Female/1/1.0/0\",\"Spain/Female/1/1.0/0\",\"France/Male/1/1.0/0\",\"Germany/Male/1/1.0/0\",\"Spain/Male/1/1.0/0\",\"France/Female/2/1.0/0\",\"Germany/Female/2/1.0/0\",\"Spain/Female/2/1.0/0\",\"France/Male/2/1.0/0\",\"Germany/Male/2/1.0/0\",\"Spain/Male/2/1.0/0\",\"France/Female/3/1.0/0\",\"Germany/Female/3/1.0/0\",\"Spain/Female/3/1.0/0\",\"France/Male/3/1.0/0\",\"Germany/Male/3/1.0/0\",\"Spain/Male/3/1.0/0\",\"France/Female/4/1.0/0\",\"Germany/Female/4/1.0/0\",\"Spain/Female/4/1.0/0\",\"France/Male/4/1.0/0\",\"Germany/Male/4/1.0/0\",\"Spain/Male/4/1.0/0\",\"France/Female/1/0.0/1\",\"Germany/Female/1/0.0/1\",\"Spain/Female/1/0.0/1\",\"France/Male/1/0.0/1\",\"Germany/Male/1/0.0/1\",\"Spain/Male/1/0.0/1\",\"France/Female/2/0.0/1\",\"Germany/Female/2/0.0/1\",\"Spain/Female/2/0.0/1\",\"France/Male/2/0.0/1\",\"Germany/Male/2/0.0/1\",\"Spain/Male/2/0.0/1\",\"France/Female/3/0.0/1\",\"Germany/Female/3/0.0/1\",\"Spain/Female/3/0.0/1\",\"France/Male/3/0.0/1\",\"Germany/Male/3/0.0/1\",\"Spain/Male/3/0.0/1\",\"France/Female/4/0.0/1\",\"Germany/Female/4/0.0/1\",\"Spain/Female/4/0.0/1\",\"France/Male/4/0.0/1\",\"Germany/Male/4/0.0/1\",\"Spain/Male/4/0.0/1\",\"France/Female/1/1.0/1\",\"Germany/Female/1/1.0/1\",\"Spain/Female/1/1.0/1\",\"France/Male/1/1.0/1\",\"Germany/Male/1/1.0/1\",\"Spain/Male/1/1.0/1\",\"France/Female/2/1.0/1\",\"Germany/Female/2/1.0/1\",\"Spain/Female/2/1.0/1\",\"France/Male/2/1.0/1\",\"Germany/Male/2/1.0/1\",\"Spain/Male/2/1.0/1\",\"France/Female/3/1.0/1\",\"Germany/Female/3/1.0/1\",\"Spain/Female/3/1.0/1\",\"France/Male/3/1.0/1\",\"Germany/Male/3/1.0/1\",\"Spain/Male/3/1.0/1\",\"France/Female/4/1.0/1\",\"Germany/Female/4/1.0/1\",\"Spain/Female/4/1.0/1\",\"France/Male/4/1.0/1\",\"Germany/Male/4/1.0/1\",\"Spain/Male/4/1.0/1\",\"France/Female/1/0.0\",\"Germany/Female/1/0.0\",\"Spain/Female/1/0.0\",\"France/Male/1/0.0\",\"Germany/Male/1/0.0\",\"Spain/Male/1/0.0\",\"France/Female/2/0.0\",\"Germany/Female/2/0.0\",\"Spain/Female/2/0.0\",\"France/Male/2/0.0\",\"Germany/Male/2/0.0\",\"Spain/Male/2/0.0\",\"France/Female/3/0.0\",\"Germany/Female/3/0.0\",\"Spain/Female/3/0.0\",\"France/Male/3/0.0\",\"Germany/Male/3/0.0\",\"Spain/Male/3/0.0\",\"France/Female/4/0.0\",\"Germany/Female/4/0.0\",\"Spain/Female/4/0.0\",\"France/Male/4/0.0\",\"Germany/Male/4/0.0\",\"Spain/Male/4/0.0\",\"France/Female/1/1.0\",\"Germany/Female/1/1.0\",\"Spain/Female/1/1.0\",\"France/Male/1/1.0\",\"Germany/Male/1/1.0\",\"Spain/Male/1/1.0\",\"France/Female/2/1.0\",\"Germany/Female/2/1.0\",\"Spain/Female/2/1.0\",\"France/Male/2/1.0\",\"Germany/Male/2/1.0\",\"Spain/Male/2/1.0\",\"France/Female/3/1.0\",\"Germany/Female/3/1.0\",\"Spain/Female/3/1.0\",\"France/Male/3/1.0\",\"Germany/Male/3/1.0\",\"Spain/Male/3/1.0\",\"France/Female/4/1.0\",\"Germany/Female/4/1.0\",\"Spain/Female/4/1.0\",\"France/Male/4/1.0\",\"Germany/Male/4/1.0\",\"Spain/Male/4/1.0\",\"France/Female/1\",\"Germany/Female/1\",\"Spain/Female/1\",\"France/Male/1\",\"Germany/Male/1\",\"Spain/Male/1\",\"France/Female/2\",\"Germany/Female/2\",\"Spain/Female/2\",\"France/Male/2\",\"Germany/Male/2\",\"Spain/Male/2\",\"France/Female/3\",\"Germany/Female/3\",\"Spain/Female/3\",\"France/Male/3\",\"Germany/Male/3\",\"Spain/Male/3\",\"France/Female/4\",\"Germany/Female/4\",\"Spain/Female/4\",\"France/Male/4\",\"Germany/Male/4\",\"Spain/Male/4\",\"France/Female\",\"Germany/Female\",\"Spain/Female\",\"France/Male\",\"Germany/Male\",\"Spain/Male\",\"France\",\"Germany\",\"Spain\"],\"labels\":[\"0\",\"0\",\"0\",\"0\",\"0\",\"0\",\"0\",\"0\",\"0\",\"0\",\"0\",\"0\",\"0\",\"0\",\"0\",\"0\",\"0\",\"0\",\"0\",\"0\",\"0\",\"0\",\"0\",\"0\",\"0\",\"0\",\"0\",\"0\",\"0\",\"0\",\"0\",\"0\",\"0\",\"0\",\"0\",\"0\",\"0\",\"0\",\"0\",\"0\",\"0\",\"0\",\"0\",\"0\",\"0\",\"0\",\"0\",\"0\",\"1\",\"1\",\"1\",\"1\",\"1\",\"1\",\"1\",\"1\",\"1\",\"1\",\"1\",\"1\",\"1\",\"1\",\"1\",\"1\",\"1\",\"1\",\"1\",\"1\",\"1\",\"1\",\"1\",\"1\",\"1\",\"1\",\"1\",\"1\",\"1\",\"1\",\"1\",\"1\",\"1\",\"1\",\"1\",\"1\",\"1\",\"1\",\"1\",\"1\",\"1\",\"1\",\"1\",\"1\",\"1\",\"1\",\"1\",\"1\",\"0.0\",\"0.0\",\"0.0\",\"0.0\",\"0.0\",\"0.0\",\"0.0\",\"0.0\",\"0.0\",\"0.0\",\"0.0\",\"0.0\",\"0.0\",\"0.0\",\"0.0\",\"0.0\",\"0.0\",\"0.0\",\"0.0\",\"0.0\",\"0.0\",\"0.0\",\"0.0\",\"0.0\",\"1.0\",\"1.0\",\"1.0\",\"1.0\",\"1.0\",\"1.0\",\"1.0\",\"1.0\",\"1.0\",\"1.0\",\"1.0\",\"1.0\",\"1.0\",\"1.0\",\"1.0\",\"1.0\",\"1.0\",\"1.0\",\"1.0\",\"1.0\",\"1.0\",\"1.0\",\"1.0\",\"1.0\",\"1\",\"1\",\"1\",\"1\",\"1\",\"1\",\"2\",\"2\",\"2\",\"2\",\"2\",\"2\",\"3\",\"3\",\"3\",\"3\",\"3\",\"3\",\"4\",\"4\",\"4\",\"4\",\"4\",\"4\",\"Female\",\"Female\",\"Female\",\"Male\",\"Male\",\"Male\",\"France\",\"Germany\",\"Spain\"],\"marker\":{\"coloraxis\":\"coloraxis\",\"colors\":[0.0,0.0,0.0,0.0,0.0,0.0,0.0,0.0,0.0,0.0,0.0,0.0,0.0,0.0,0.0,0.0,0.0,0.0,0.0,0.0,0.0,0.0,0.0,0.0,0.0,0.0,0.0,0.0,0.0,0.0,0.0,0.0,0.0,0.0,0.0,0.0,0.0,0.0,0.0,0.0,0.0,0.0,0.0,0.0,0.0,0.0,0.0,0.0,1.0,1.0,1.0,1.0,1.0,1.0,1.0,1.0,1.0,1.0,1.0,1.0,1.0,1.0,1.0,1.0,1.0,1.0,1.0,1.0,1.0,1.0,1.0,1.0,1.0,1.0,1.0,1.0,1.0,1.0,1.0,1.0,1.0,1.0,1.0,1.0,1.0,1.0,1.0,1.0,1.0,1.0,1.0,1.0,1.0,1.0,1.0,1.0,0.4946258161727775,0.6947229985204669,0.48436268068331145,0.30883509569168927,0.5359361135758651,0.32468714448236635,0.09549712904200665,0.25813692480359146,0.1035400585573596,0.047662437793509496,0.15778567199526347,0.05787781350482315,0.9376299376299376,0.9634464751958225,0.9393939393939394,0.8564231738035264,0.9444444444444444,0.8757396449704142,0.9210526315789473,0.9325842696629213,0.9545454545454546,0.8571428571428571,0.9649122807017544,0.9259259259259259,0.24441443653326786,0.424993921711646,0.23958011732016055,0.13315049102008317,0.25973210548346587,0.13909354766688994,0.03641431397230714,0.10835372247465921,0.03437932625749884,0.01920521802150018,0.061229740159506045,0.020352564102564103,0.7807017543859649,0.9144736842105263,0.847457627118644,0.6927083333333334,0.8157894736842105,0.7764705882352941,0.8536585365853658,0.9117647058823529,0.8571428571428571,0.6486486486486487,0.72,0.5454545454545454,0.3820230926468151,0.5859160455080423,0.3718057921635434,0.22153345643190012,0.40920003841352154,0.23101194500788821,0.06427858805643974,0.18070112034694616,0.06649363490297862,0.03237631792376318,0.10612525808671713,0.03756398022035222,0.8871650211565585,0.9495327102803738,0.9083094555873925,0.8030560271646859,0.9017467248908297,0.84251968503937,0.8974358974358975,0.926829268292683,0.9166666666666666,0.759493670886076,0.8902439024390244,0.8157894736842105,0.22518511106664,0.4635098852819136,0.22596649484536083,0.12113055181695828,0.302887254363816,0.13183202049002077,0.16528153691025846,0.3789516268855112,0.1721757379946428]},\"name\":\"\",\"parents\":[\"France/Female/1/0.0\",\"Germany/Female/1/0.0\",\"Spain/Female/1/0.0\",\"France/Male/1/0.0\",\"Germany/Male/1/0.0\",\"Spain/Male/1/0.0\",\"France/Female/2/0.0\",\"Germany/Female/2/0.0\",\"Spain/Female/2/0.0\",\"France/Male/2/0.0\",\"Germany/Male/2/0.0\",\"Spain/Male/2/0.0\",\"France/Female/3/0.0\",\"Germany/Female/3/0.0\",\"Spain/Female/3/0.0\",\"France/Male/3/0.0\",\"Germany/Male/3/0.0\",\"Spain/Male/3/0.0\",\"France/Female/4/0.0\",\"Germany/Female/4/0.0\",\"Spain/Female/4/0.0\",\"France/Male/4/0.0\",\"Germany/Male/4/0.0\",\"Spain/Male/4/0.0\",\"France/Female/1/1.0\",\"Germany/Female/1/1.0\",\"Spain/Female/1/1.0\",\"France/Male/1/1.0\",\"Germany/Male/1/1.0\",\"Spain/Male/1/1.0\",\"France/Female/2/1.0\",\"Germany/Female/2/1.0\",\"Spain/Female/2/1.0\",\"France/Male/2/1.0\",\"Germany/Male/2/1.0\",\"Spain/Male/2/1.0\",\"France/Female/3/1.0\",\"Germany/Female/3/1.0\",\"Spain/Female/3/1.0\",\"France/Male/3/1.0\",\"Germany/Male/3/1.0\",\"Spain/Male/3/1.0\",\"France/Female/4/1.0\",\"Germany/Female/4/1.0\",\"Spain/Female/4/1.0\",\"France/Male/4/1.0\",\"Germany/Male/4/1.0\",\"Spain/Male/4/1.0\",\"France/Female/1/0.0\",\"Germany/Female/1/0.0\",\"Spain/Female/1/0.0\",\"France/Male/1/0.0\",\"Germany/Male/1/0.0\",\"Spain/Male/1/0.0\",\"France/Female/2/0.0\",\"Germany/Female/2/0.0\",\"Spain/Female/2/0.0\",\"France/Male/2/0.0\",\"Germany/Male/2/0.0\",\"Spain/Male/2/0.0\",\"France/Female/3/0.0\",\"Germany/Female/3/0.0\",\"Spain/Female/3/0.0\",\"France/Male/3/0.0\",\"Germany/Male/3/0.0\",\"Spain/Male/3/0.0\",\"France/Female/4/0.0\",\"Germany/Female/4/0.0\",\"Spain/Female/4/0.0\",\"France/Male/4/0.0\",\"Germany/Male/4/0.0\",\"Spain/Male/4/0.0\",\"France/Female/1/1.0\",\"Germany/Female/1/1.0\",\"Spain/Female/1/1.0\",\"France/Male/1/1.0\",\"Germany/Male/1/1.0\",\"Spain/Male/1/1.0\",\"France/Female/2/1.0\",\"Germany/Female/2/1.0\",\"Spain/Female/2/1.0\",\"France/Male/2/1.0\",\"Germany/Male/2/1.0\",\"Spain/Male/2/1.0\",\"France/Female/3/1.0\",\"Germany/Female/3/1.0\",\"Spain/Female/3/1.0\",\"France/Male/3/1.0\",\"Germany/Male/3/1.0\",\"Spain/Male/3/1.0\",\"France/Female/4/1.0\",\"Germany/Female/4/1.0\",\"Spain/Female/4/1.0\",\"France/Male/4/1.0\",\"Germany/Male/4/1.0\",\"Spain/Male/4/1.0\",\"France/Female/1\",\"Germany/Female/1\",\"Spain/Female/1\",\"France/Male/1\",\"Germany/Male/1\",\"Spain/Male/1\",\"France/Female/2\",\"Germany/Female/2\",\"Spain/Female/2\",\"France/Male/2\",\"Germany/Male/2\",\"Spain/Male/2\",\"France/Female/3\",\"Germany/Female/3\",\"Spain/Female/3\",\"France/Male/3\",\"Germany/Male/3\",\"Spain/Male/3\",\"France/Female/4\",\"Germany/Female/4\",\"Spain/Female/4\",\"France/Male/4\",\"Germany/Male/4\",\"Spain/Male/4\",\"France/Female/1\",\"Germany/Female/1\",\"Spain/Female/1\",\"France/Male/1\",\"Germany/Male/1\",\"Spain/Male/1\",\"France/Female/2\",\"Germany/Female/2\",\"Spain/Female/2\",\"France/Male/2\",\"Germany/Male/2\",\"Spain/Male/2\",\"France/Female/3\",\"Germany/Female/3\",\"Spain/Female/3\",\"France/Male/3\",\"Germany/Male/3\",\"Spain/Male/3\",\"France/Female/4\",\"Germany/Female/4\",\"Spain/Female/4\",\"France/Male/4\",\"Germany/Male/4\",\"Spain/Male/4\",\"France/Female\",\"Germany/Female\",\"Spain/Female\",\"France/Male\",\"Germany/Male\",\"Spain/Male\",\"France/Female\",\"Germany/Female\",\"Spain/Female\",\"France/Male\",\"Germany/Male\",\"Spain/Male\",\"France/Female\",\"Germany/Female\",\"Spain/Female\",\"France/Male\",\"Germany/Male\",\"Spain/Male\",\"France/Female\",\"Germany/Female\",\"Spain/Female\",\"France/Male\",\"Germany/Male\",\"Spain/Male\",\"France\",\"Germany\",\"Spain\",\"France\",\"Germany\",\"Spain\",\"\",\"\",\"\"],\"values\":[5031,1857,1962,7909,2615,2968,8979,1983,3368,13587,2845,4981,30,14,14,57,17,21,6,6,1,6,2,2,6155,2365,2463,9798,3537,3856,10717,2551,4185,16240,3649,6113,50,13,18,59,28,19,6,3,2,13,7,5,4924,4226,1843,3534,3020,1427,948,690,389,680,533,306,451,369,217,340,289,148,70,83,21,36,55,25,1991,1748,776,1505,1241,623,405,310,149,318,238,127,178,139,100,133,124,66,35,31,12,24,18,6,9955,6083,3805,11443,5635,4395,9927,2673,3757,14267,3378,5287,481,383,231,397,306,169,76,89,22,42,57,27,8146,4113,3239,11303,4778,4479,11122,2861,4334,16558,3887,6240,228,152,118,192,152,85,41,34,14,37,25,11,18101,10196,7044,22746,10413,8874,21049,5534,8091,30825,7265,11527,709,535,349,589,458,254,117,123,36,79,82,38,39976,16388,15520,54239,18218,20693,94215,34606,36213],\"type\":\"sunburst\"}],                        {\"template\":{\"data\":{\"histogram2dcontour\":[{\"type\":\"histogram2dcontour\",\"colorbar\":{\"outlinewidth\":0,\"ticks\":\"\"},\"colorscale\":[[0.0,\"#0d0887\"],[0.1111111111111111,\"#46039f\"],[0.2222222222222222,\"#7201a8\"],[0.3333333333333333,\"#9c179e\"],[0.4444444444444444,\"#bd3786\"],[0.5555555555555556,\"#d8576b\"],[0.6666666666666666,\"#ed7953\"],[0.7777777777777778,\"#fb9f3a\"],[0.8888888888888888,\"#fdca26\"],[1.0,\"#f0f921\"]]}],\"choropleth\":[{\"type\":\"choropleth\",\"colorbar\":{\"outlinewidth\":0,\"ticks\":\"\"}}],\"histogram2d\":[{\"type\":\"histogram2d\",\"colorbar\":{\"outlinewidth\":0,\"ticks\":\"\"},\"colorscale\":[[0.0,\"#0d0887\"],[0.1111111111111111,\"#46039f\"],[0.2222222222222222,\"#7201a8\"],[0.3333333333333333,\"#9c179e\"],[0.4444444444444444,\"#bd3786\"],[0.5555555555555556,\"#d8576b\"],[0.6666666666666666,\"#ed7953\"],[0.7777777777777778,\"#fb9f3a\"],[0.8888888888888888,\"#fdca26\"],[1.0,\"#f0f921\"]]}],\"heatmap\":[{\"type\":\"heatmap\",\"colorbar\":{\"outlinewidth\":0,\"ticks\":\"\"},\"colorscale\":[[0.0,\"#0d0887\"],[0.1111111111111111,\"#46039f\"],[0.2222222222222222,\"#7201a8\"],[0.3333333333333333,\"#9c179e\"],[0.4444444444444444,\"#bd3786\"],[0.5555555555555556,\"#d8576b\"],[0.6666666666666666,\"#ed7953\"],[0.7777777777777778,\"#fb9f3a\"],[0.8888888888888888,\"#fdca26\"],[1.0,\"#f0f921\"]]}],\"heatmapgl\":[{\"type\":\"heatmapgl\",\"colorbar\":{\"outlinewidth\":0,\"ticks\":\"\"},\"colorscale\":[[0.0,\"#0d0887\"],[0.1111111111111111,\"#46039f\"],[0.2222222222222222,\"#7201a8\"],[0.3333333333333333,\"#9c179e\"],[0.4444444444444444,\"#bd3786\"],[0.5555555555555556,\"#d8576b\"],[0.6666666666666666,\"#ed7953\"],[0.7777777777777778,\"#fb9f3a\"],[0.8888888888888888,\"#fdca26\"],[1.0,\"#f0f921\"]]}],\"contourcarpet\":[{\"type\":\"contourcarpet\",\"colorbar\":{\"outlinewidth\":0,\"ticks\":\"\"}}],\"contour\":[{\"type\":\"contour\",\"colorbar\":{\"outlinewidth\":0,\"ticks\":\"\"},\"colorscale\":[[0.0,\"#0d0887\"],[0.1111111111111111,\"#46039f\"],[0.2222222222222222,\"#7201a8\"],[0.3333333333333333,\"#9c179e\"],[0.4444444444444444,\"#bd3786\"],[0.5555555555555556,\"#d8576b\"],[0.6666666666666666,\"#ed7953\"],[0.7777777777777778,\"#fb9f3a\"],[0.8888888888888888,\"#fdca26\"],[1.0,\"#f0f921\"]]}],\"surface\":[{\"type\":\"surface\",\"colorbar\":{\"outlinewidth\":0,\"ticks\":\"\"},\"colorscale\":[[0.0,\"#0d0887\"],[0.1111111111111111,\"#46039f\"],[0.2222222222222222,\"#7201a8\"],[0.3333333333333333,\"#9c179e\"],[0.4444444444444444,\"#bd3786\"],[0.5555555555555556,\"#d8576b\"],[0.6666666666666666,\"#ed7953\"],[0.7777777777777778,\"#fb9f3a\"],[0.8888888888888888,\"#fdca26\"],[1.0,\"#f0f921\"]]}],\"mesh3d\":[{\"type\":\"mesh3d\",\"colorbar\":{\"outlinewidth\":0,\"ticks\":\"\"}}],\"scatter\":[{\"fillpattern\":{\"fillmode\":\"overlay\",\"size\":10,\"solidity\":0.2},\"type\":\"scatter\"}],\"parcoords\":[{\"type\":\"parcoords\",\"line\":{\"colorbar\":{\"outlinewidth\":0,\"ticks\":\"\"}}}],\"scatterpolargl\":[{\"type\":\"scatterpolargl\",\"marker\":{\"colorbar\":{\"outlinewidth\":0,\"ticks\":\"\"}}}],\"bar\":[{\"error_x\":{\"color\":\"#2a3f5f\"},\"error_y\":{\"color\":\"#2a3f5f\"},\"marker\":{\"line\":{\"color\":\"#E5ECF6\",\"width\":0.5},\"pattern\":{\"fillmode\":\"overlay\",\"size\":10,\"solidity\":0.2}},\"type\":\"bar\"}],\"scattergeo\":[{\"type\":\"scattergeo\",\"marker\":{\"colorbar\":{\"outlinewidth\":0,\"ticks\":\"\"}}}],\"scatterpolar\":[{\"type\":\"scatterpolar\",\"marker\":{\"colorbar\":{\"outlinewidth\":0,\"ticks\":\"\"}}}],\"histogram\":[{\"marker\":{\"pattern\":{\"fillmode\":\"overlay\",\"size\":10,\"solidity\":0.2}},\"type\":\"histogram\"}],\"scattergl\":[{\"type\":\"scattergl\",\"marker\":{\"colorbar\":{\"outlinewidth\":0,\"ticks\":\"\"}}}],\"scatter3d\":[{\"type\":\"scatter3d\",\"line\":{\"colorbar\":{\"outlinewidth\":0,\"ticks\":\"\"}},\"marker\":{\"colorbar\":{\"outlinewidth\":0,\"ticks\":\"\"}}}],\"scattermapbox\":[{\"type\":\"scattermapbox\",\"marker\":{\"colorbar\":{\"outlinewidth\":0,\"ticks\":\"\"}}}],\"scatterternary\":[{\"type\":\"scatterternary\",\"marker\":{\"colorbar\":{\"outlinewidth\":0,\"ticks\":\"\"}}}],\"scattercarpet\":[{\"type\":\"scattercarpet\",\"marker\":{\"colorbar\":{\"outlinewidth\":0,\"ticks\":\"\"}}}],\"carpet\":[{\"aaxis\":{\"endlinecolor\":\"#2a3f5f\",\"gridcolor\":\"white\",\"linecolor\":\"white\",\"minorgridcolor\":\"white\",\"startlinecolor\":\"#2a3f5f\"},\"baxis\":{\"endlinecolor\":\"#2a3f5f\",\"gridcolor\":\"white\",\"linecolor\":\"white\",\"minorgridcolor\":\"white\",\"startlinecolor\":\"#2a3f5f\"},\"type\":\"carpet\"}],\"table\":[{\"cells\":{\"fill\":{\"color\":\"#EBF0F8\"},\"line\":{\"color\":\"white\"}},\"header\":{\"fill\":{\"color\":\"#C8D4E3\"},\"line\":{\"color\":\"white\"}},\"type\":\"table\"}],\"barpolar\":[{\"marker\":{\"line\":{\"color\":\"#E5ECF6\",\"width\":0.5},\"pattern\":{\"fillmode\":\"overlay\",\"size\":10,\"solidity\":0.2}},\"type\":\"barpolar\"}],\"pie\":[{\"automargin\":true,\"type\":\"pie\"}]},\"layout\":{\"autotypenumbers\":\"strict\",\"colorway\":[\"#636efa\",\"#EF553B\",\"#00cc96\",\"#ab63fa\",\"#FFA15A\",\"#19d3f3\",\"#FF6692\",\"#B6E880\",\"#FF97FF\",\"#FECB52\"],\"font\":{\"color\":\"#2a3f5f\"},\"hovermode\":\"closest\",\"hoverlabel\":{\"align\":\"left\"},\"paper_bgcolor\":\"white\",\"plot_bgcolor\":\"#E5ECF6\",\"polar\":{\"bgcolor\":\"#E5ECF6\",\"angularaxis\":{\"gridcolor\":\"white\",\"linecolor\":\"white\",\"ticks\":\"\"},\"radialaxis\":{\"gridcolor\":\"white\",\"linecolor\":\"white\",\"ticks\":\"\"}},\"ternary\":{\"bgcolor\":\"#E5ECF6\",\"aaxis\":{\"gridcolor\":\"white\",\"linecolor\":\"white\",\"ticks\":\"\"},\"baxis\":{\"gridcolor\":\"white\",\"linecolor\":\"white\",\"ticks\":\"\"},\"caxis\":{\"gridcolor\":\"white\",\"linecolor\":\"white\",\"ticks\":\"\"}},\"coloraxis\":{\"colorbar\":{\"outlinewidth\":0,\"ticks\":\"\"}},\"colorscale\":{\"sequential\":[[0.0,\"#0d0887\"],[0.1111111111111111,\"#46039f\"],[0.2222222222222222,\"#7201a8\"],[0.3333333333333333,\"#9c179e\"],[0.4444444444444444,\"#bd3786\"],[0.5555555555555556,\"#d8576b\"],[0.6666666666666666,\"#ed7953\"],[0.7777777777777778,\"#fb9f3a\"],[0.8888888888888888,\"#fdca26\"],[1.0,\"#f0f921\"]],\"sequentialminus\":[[0.0,\"#0d0887\"],[0.1111111111111111,\"#46039f\"],[0.2222222222222222,\"#7201a8\"],[0.3333333333333333,\"#9c179e\"],[0.4444444444444444,\"#bd3786\"],[0.5555555555555556,\"#d8576b\"],[0.6666666666666666,\"#ed7953\"],[0.7777777777777778,\"#fb9f3a\"],[0.8888888888888888,\"#fdca26\"],[1.0,\"#f0f921\"]],\"diverging\":[[0,\"#8e0152\"],[0.1,\"#c51b7d\"],[0.2,\"#de77ae\"],[0.3,\"#f1b6da\"],[0.4,\"#fde0ef\"],[0.5,\"#f7f7f7\"],[0.6,\"#e6f5d0\"],[0.7,\"#b8e186\"],[0.8,\"#7fbc41\"],[0.9,\"#4d9221\"],[1,\"#276419\"]]},\"xaxis\":{\"gridcolor\":\"white\",\"linecolor\":\"white\",\"ticks\":\"\",\"title\":{\"standoff\":15},\"zerolinecolor\":\"white\",\"automargin\":true,\"zerolinewidth\":2},\"yaxis\":{\"gridcolor\":\"white\",\"linecolor\":\"white\",\"ticks\":\"\",\"title\":{\"standoff\":15},\"zerolinecolor\":\"white\",\"automargin\":true,\"zerolinewidth\":2},\"scene\":{\"xaxis\":{\"backgroundcolor\":\"#E5ECF6\",\"gridcolor\":\"white\",\"linecolor\":\"white\",\"showbackground\":true,\"ticks\":\"\",\"zerolinecolor\":\"white\",\"gridwidth\":2},\"yaxis\":{\"backgroundcolor\":\"#E5ECF6\",\"gridcolor\":\"white\",\"linecolor\":\"white\",\"showbackground\":true,\"ticks\":\"\",\"zerolinecolor\":\"white\",\"gridwidth\":2},\"zaxis\":{\"backgroundcolor\":\"#E5ECF6\",\"gridcolor\":\"white\",\"linecolor\":\"white\",\"showbackground\":true,\"ticks\":\"\",\"zerolinecolor\":\"white\",\"gridwidth\":2}},\"shapedefaults\":{\"line\":{\"color\":\"#2a3f5f\"}},\"annotationdefaults\":{\"arrowcolor\":\"#2a3f5f\",\"arrowhead\":0,\"arrowwidth\":1},\"geo\":{\"bgcolor\":\"white\",\"landcolor\":\"#E5ECF6\",\"subunitcolor\":\"white\",\"showland\":true,\"showlakes\":true,\"lakecolor\":\"white\"},\"title\":{\"x\":0.05},\"mapbox\":{\"style\":\"light\"}}},\"coloraxis\":{\"colorbar\":{\"title\":{\"text\":\"Exited\"}},\"colorscale\":[[0.0,\"#0d0887\"],[0.1111111111111111,\"#46039f\"],[0.2222222222222222,\"#7201a8\"],[0.3333333333333333,\"#9c179e\"],[0.4444444444444444,\"#bd3786\"],[0.5555555555555556,\"#d8576b\"],[0.6666666666666666,\"#ed7953\"],[0.7777777777777778,\"#fb9f3a\"],[0.8888888888888888,\"#fdca26\"],[1.0,\"#f0f921\"]]},\"legend\":{\"tracegroupgap\":0},\"margin\":{\"t\":60},\"height\":1200,\"width\":1200},                        {\"responsive\": true}                    ).then(function(){\n",
       "                            \n",
       "var gd = document.getElementById('3b497588-3b85-4862-90f0-5ac4fe983e9b');\n",
       "var x = new MutationObserver(function (mutations, observer) {{\n",
       "        var display = window.getComputedStyle(gd).display;\n",
       "        if (!display || display === 'none') {{\n",
       "            console.log([gd, 'removed!']);\n",
       "            Plotly.purge(gd);\n",
       "            observer.disconnect();\n",
       "        }}\n",
       "}});\n",
       "\n",
       "// Listen for the removal of the full notebook cells\n",
       "var notebookContainer = gd.closest('#notebook-container');\n",
       "if (notebookContainer) {{\n",
       "    x.observe(notebookContainer, {childList: true});\n",
       "}}\n",
       "\n",
       "// Listen for the clearing of the current output cell\n",
       "var outputEl = gd.closest('.output');\n",
       "if (outputEl) {{\n",
       "    x.observe(outputEl, {childList: true});\n",
       "}}\n",
       "\n",
       "                        })                };                });            </script>        </div>"
      ]
     },
     "metadata": {},
     "output_type": "display_data"
    }
   ],
   "source": [
    "import plotly.express as px\n",
    "fig = px.sunburst(\n",
    "    df,\n",
    "    path=['Geography','Gender','NumOfProducts','IsActiveMember','Exited'], \n",
    "    color='Exited',color_discrete_map={'1':'gold', '0':'darkblue'},\n",
    "    width=1200, height=1200\n",
    ")\n",
    "fig.show()"
   ]
  },
  {
   "cell_type": "code",
   "execution_count": 286,
   "id": "a467915b",
   "metadata": {
    "scrolled": false
   },
   "outputs": [
    {
     "data": {
      "image/png": "[encoded data removed]",
      "text/plain": [
       "<Figure size 500x500 with 1 Axes>"
      ]
     },
     "metadata": {},
     "output_type": "display_data"
    },
    {
     "data": {
      "image/png": "[encoded data removed]",
      "text/plain": [
       "<Figure size 500x500 with 1 Axes>"
      ]
     },
     "metadata": {},
     "output_type": "display_data"
    },
    {
     "data": {
      "image/png": "[encoded data removed]",
      "text/plain": [
       "<Figure size 500x500 with 1 Axes>"
      ]
     },
     "metadata": {},
     "output_type": "display_data"
    },
    {
     "data": {
      "image/png": "[encoded data removed]",
      "text/plain": [
       "<Figure size 500x500 with 1 Axes>"
      ]
     },
     "metadata": {},
     "output_type": "display_data"
    },
    {
     "data": {
      "image/png": "[encoded data removed]",
      "text/plain": [
       "<Figure size 500x500 with 1 Axes>"
      ]
     },
     "metadata": {},
     "output_type": "display_data"
    }
   ],
   "source": [
    "plt.figure(figsize=(5, 5))\n",
    "s=sns.barplot(df,y='NumOfProducts',x='Exited',hue='Gender')\n",
    "plt.figure(figsize=(5, 5))\n",
    "s=sns.barplot(df,y='NumOfProducts',x='Exited',hue='Geography', palette='Greens')\n",
    "plt.figure(figsize=(5, 5))\n",
    "s=sns.barplot(df,y='Age',x='Exited',hue='Geography',palette='Blues')\n",
    "plt.figure(figsize=(5, 5))\n",
    "s=sns.barplot(df,y='Tenure',x='Exited',hue='Geography',palette='Reds')\n",
    "plt.figure(figsize=(5, 5))\n",
    "s=sns.scatterplot(df,y='Balance',x='Geography',hue='Exited',palette='crest')"
   ]
  },
  {
   "cell_type": "code",
   "execution_count": 287,
   "id": "97f33464",
   "metadata": {},
   "outputs": [],
   "source": [
    "import warnings\n",
    "warnings.filterwarnings(\"ignore\")"
   ]
  },
  {
   "cell_type": "code",
   "execution_count": 288,
   "id": "aa9f5738",
   "metadata": {
    "scrolled": false
   },
   "outputs": [
    {
     "data": {
      "image/png": "[encoded data removed]",
      "text/plain": [
       "<Figure size 2000x2000 with 2 Axes>"
      ]
     },
     "metadata": {},
     "output_type": "display_data"
    },
    {
     "data": {
      "image/png": "[encoded data removed]",
      "text/plain": [
       "<Figure size 2000x2000 with 2 Axes>"
      ]
     },
     "metadata": {},
     "output_type": "display_data"
    }
   ],
   "source": [
    "corr = df.corr()\n",
    "# plot the heatmap\n",
    "plt.figure(figsize=(20, 20))\n",
    "s=sns.heatmap(corr,annot=True)\n",
    "corr = df.corr()\n",
    "# plot the heatmap\n",
    "plt.figure(figsize=(20, 20))\n",
    "s=sns.heatmap(corr,annot=True, cmap='plasma')"
   ]
  },
  {
   "cell_type": "code",
   "execution_count": 289,
   "id": "d76de018",
   "metadata": {},
   "outputs": [],
   "source": [
    "#droping columns according to reqirement"
   ]
  },
  {
   "cell_type": "code",
   "execution_count": 290,
   "id": "d5ef71bc",
   "metadata": {},
   "outputs": [],
   "source": [
    "df.drop(columns=[\"Surname\",\"CustomerId\"],inplace=True)"
   ]
  },
  {
   "cell_type": "code",
   "execution_count": 291,
   "id": "fe1134c4",
   "metadata": {},
   "outputs": [
    {
     "data": {
      "text/html": [
       "<div>\n",
       "<style scoped>\n",
       "    .dataframe tbody tr th:only-of-type {\n",
       "        vertical-align: middle;\n",
       "    }\n",
       "\n",
       "    .dataframe tbody tr th {\n",
       "        vertical-align: top;\n",
       "    }\n",
       "\n",
       "    .dataframe thead th {\n",
       "        text-align: right;\n",
       "    }\n",
       "</style>\n",
       "<table border=\"1\" class=\"dataframe\">\n",
       "  <thead>\n",
       "    <tr style=\"text-align: right;\">\n",
       "      <th></th>\n",
       "      <th>CreditScore</th>\n",
       "      <th>Age</th>\n",
       "      <th>Tenure</th>\n",
       "      <th>Balance</th>\n",
       "      <th>NumOfProducts</th>\n",
       "      <th>HasCrCard</th>\n",
       "      <th>IsActiveMember</th>\n",
       "      <th>EstimatedSalary</th>\n",
       "      <th>Exited</th>\n",
       "    </tr>\n",
       "  </thead>\n",
       "  <tbody>\n",
       "    <tr>\n",
       "      <th>count</th>\n",
       "      <td>165034.000000</td>\n",
       "      <td>165034.000000</td>\n",
       "      <td>165034.000000</td>\n",
       "      <td>165034.000000</td>\n",
       "      <td>165034.000000</td>\n",
       "      <td>165034.000000</td>\n",
       "      <td>165034.000000</td>\n",
       "      <td>165034.000000</td>\n",
       "      <td>165034.000000</td>\n",
       "    </tr>\n",
       "    <tr>\n",
       "      <th>mean</th>\n",
       "      <td>656.454373</td>\n",
       "      <td>38.125888</td>\n",
       "      <td>5.020353</td>\n",
       "      <td>55478.086689</td>\n",
       "      <td>1.554455</td>\n",
       "      <td>0.753954</td>\n",
       "      <td>0.497770</td>\n",
       "      <td>112574.822734</td>\n",
       "      <td>0.211599</td>\n",
       "    </tr>\n",
       "    <tr>\n",
       "      <th>std</th>\n",
       "      <td>80.103340</td>\n",
       "      <td>8.867205</td>\n",
       "      <td>2.806159</td>\n",
       "      <td>62817.663278</td>\n",
       "      <td>0.547154</td>\n",
       "      <td>0.430707</td>\n",
       "      <td>0.499997</td>\n",
       "      <td>50292.865585</td>\n",
       "      <td>0.408443</td>\n",
       "    </tr>\n",
       "    <tr>\n",
       "      <th>min</th>\n",
       "      <td>350.000000</td>\n",
       "      <td>18.000000</td>\n",
       "      <td>0.000000</td>\n",
       "      <td>0.000000</td>\n",
       "      <td>1.000000</td>\n",
       "      <td>0.000000</td>\n",
       "      <td>0.000000</td>\n",
       "      <td>11.580000</td>\n",
       "      <td>0.000000</td>\n",
       "    </tr>\n",
       "    <tr>\n",
       "      <th>25%</th>\n",
       "      <td>597.000000</td>\n",
       "      <td>32.000000</td>\n",
       "      <td>3.000000</td>\n",
       "      <td>0.000000</td>\n",
       "      <td>1.000000</td>\n",
       "      <td>1.000000</td>\n",
       "      <td>0.000000</td>\n",
       "      <td>74637.570000</td>\n",
       "      <td>0.000000</td>\n",
       "    </tr>\n",
       "    <tr>\n",
       "      <th>50%</th>\n",
       "      <td>659.000000</td>\n",
       "      <td>37.000000</td>\n",
       "      <td>5.000000</td>\n",
       "      <td>0.000000</td>\n",
       "      <td>2.000000</td>\n",
       "      <td>1.000000</td>\n",
       "      <td>0.000000</td>\n",
       "      <td>117948.000000</td>\n",
       "      <td>0.000000</td>\n",
       "    </tr>\n",
       "    <tr>\n",
       "      <th>75%</th>\n",
       "      <td>710.000000</td>\n",
       "      <td>42.000000</td>\n",
       "      <td>7.000000</td>\n",
       "      <td>119939.517500</td>\n",
       "      <td>2.000000</td>\n",
       "      <td>1.000000</td>\n",
       "      <td>1.000000</td>\n",
       "      <td>155152.467500</td>\n",
       "      <td>0.000000</td>\n",
       "    </tr>\n",
       "    <tr>\n",
       "      <th>max</th>\n",
       "      <td>850.000000</td>\n",
       "      <td>92.000000</td>\n",
       "      <td>10.000000</td>\n",
       "      <td>250898.090000</td>\n",
       "      <td>4.000000</td>\n",
       "      <td>1.000000</td>\n",
       "      <td>1.000000</td>\n",
       "      <td>199992.480000</td>\n",
       "      <td>1.000000</td>\n",
       "    </tr>\n",
       "  </tbody>\n",
       "</table>\n",
       "</div>"
      ],
      "text/plain": [
       "         CreditScore            Age         Tenure        Balance  \\\n",
       "count  165034.000000  165034.000000  165034.000000  165034.000000   \n",
       "mean      656.454373      38.125888       5.020353   55478.086689   \n",
       "std        80.103340       8.867205       2.806159   62817.663278   \n",
       "min       350.000000      18.000000       0.000000       0.000000   \n",
       "25%       597.000000      32.000000       3.000000       0.000000   \n",
       "50%       659.000000      37.000000       5.000000       0.000000   \n",
       "75%       710.000000      42.000000       7.000000  119939.517500   \n",
       "max       850.000000      92.000000      10.000000  250898.090000   \n",
       "\n",
       "       NumOfProducts      HasCrCard  IsActiveMember  EstimatedSalary  \\\n",
       "count  165034.000000  165034.000000   165034.000000    165034.000000   \n",
       "mean        1.554455       0.753954        0.497770    112574.822734   \n",
       "std         0.547154       0.430707        0.499997     50292.865585   \n",
       "min         1.000000       0.000000        0.000000        11.580000   \n",
       "25%         1.000000       1.000000        0.000000     74637.570000   \n",
       "50%         2.000000       1.000000        0.000000    117948.000000   \n",
       "75%         2.000000       1.000000        1.000000    155152.467500   \n",
       "max         4.000000       1.000000        1.000000    199992.480000   \n",
       "\n",
       "              Exited  \n",
       "count  165034.000000  \n",
       "mean        0.211599  \n",
       "std         0.408443  \n",
       "min         0.000000  \n",
       "25%         0.000000  \n",
       "50%         0.000000  \n",
       "75%         0.000000  \n",
       "max         1.000000  "
      ]
     },
     "execution_count": 291,
     "metadata": {},
     "output_type": "execute_result"
    }
   ],
   "source": [
    "df.describe()"
   ]
  },
  {
   "cell_type": "code",
   "execution_count": 292,
   "id": "e2460ea6",
   "metadata": {},
   "outputs": [],
   "source": [
    "df['cred_score']=df[\"CreditScore\"].apply(lambda x: \"350-450\" if 450>=x>=350 else \"451-550\"\n",
    "                       if 550>=x>451 else \"551-650\"\n",
    "                       if 650>=x>551 else \"651-750\"\n",
    "                       if 750>=x>651 else \"751-850\")"
   ]
  },
  {
   "cell_type": "code",
   "execution_count": 293,
   "id": "09f89b8c",
   "metadata": {},
   "outputs": [
    {
     "data": {
      "text/plain": [
       "cred_score  Exited\n",
       "350-450     0           718\n",
       "            1           224\n",
       "451-550     0         11145\n",
       "            1          3557\n",
       "551-650     0         46325\n",
       "            1         13302\n",
       "651-750     0         55929\n",
       "            1         13721\n",
       "751-850     0         15996\n",
       "            1          4117\n",
       "Name: Exited, dtype: int64"
      ]
     },
     "execution_count": 293,
     "metadata": {},
     "output_type": "execute_result"
    }
   ],
   "source": [
    "df.groupby(\"cred_score\")[\"Exited\"].value_counts()"
   ]
  },
  {
   "cell_type": "code",
   "execution_count": 294,
   "id": "1742967a",
   "metadata": {},
   "outputs": [],
   "source": [
    "df.drop(columns=\"CreditScore\",inplace=True)"
   ]
  },
  {
   "cell_type": "markdown",
   "id": "be17318e",
   "metadata": {},
   "source": [
    "### train test split"
   ]
  },
  {
   "cell_type": "code",
   "execution_count": 295,
   "id": "95d11ffc",
   "metadata": {},
   "outputs": [],
   "source": [
    "x=df.drop(columns=\"Exited\")\n",
    "y=df[\"Exited\"]"
   ]
  },
  {
   "cell_type": "code",
   "execution_count": 296,
   "id": "2cc1e29b",
   "metadata": {},
   "outputs": [],
   "source": [
    "x_num=x.select_dtypes(include=np.number)\n",
    "x_cat=x.select_dtypes(exclude=np.number)"
   ]
  },
  {
   "cell_type": "code",
   "execution_count": 297,
   "id": "7a561aff",
   "metadata": {},
   "outputs": [],
   "source": [
    "dummy_x=pd.get_dummies(x_cat,drop_first=True)"
   ]
  },
  {
   "cell_type": "code",
   "execution_count": 298,
   "id": "46a73abb",
   "metadata": {},
   "outputs": [],
   "source": [
    "#scaling"
   ]
  },
  {
   "cell_type": "code",
   "execution_count": 299,
   "id": "eb82f784",
   "metadata": {},
   "outputs": [],
   "source": [
    "from sklearn.preprocessing import StandardScaler"
   ]
  },
  {
   "cell_type": "code",
   "execution_count": 300,
   "id": "6814f203",
   "metadata": {},
   "outputs": [],
   "source": [
    "sc=StandardScaler()"
   ]
  },
  {
   "cell_type": "code",
   "execution_count": 301,
   "id": "1852a58a",
   "metadata": {},
   "outputs": [],
   "source": [
    "scaled_x=pd.DataFrame(sc.fit_transform(x_num),columns=x_num.columns)"
   ]
  },
  {
   "cell_type": "code",
   "execution_count": 302,
   "id": "15b39eda",
   "metadata": {},
   "outputs": [],
   "source": [
    "x=pd.concat([scaled_x,dummy_x],axis=1)"
   ]
  },
  {
   "cell_type": "code",
   "execution_count": 303,
   "id": "de46897a",
   "metadata": {},
   "outputs": [],
   "source": [
    "from sklearn.model_selection import train_test_split"
   ]
  },
  {
   "cell_type": "code",
   "execution_count": 304,
   "id": "5e3176ba",
   "metadata": {},
   "outputs": [],
   "source": [
    "xtrain,xtest,ytrain,ytest=train_test_split(x,y)"
   ]
  },
  {
   "cell_type": "markdown",
   "id": "f5fd47cc",
   "metadata": {},
   "source": [
    "### Logistic Regression model"
   ]
  },
  {
   "cell_type": "code",
   "execution_count": 305,
   "id": "cff0fd37",
   "metadata": {},
   "outputs": [],
   "source": [
    "from sklearn.linear_model import LogisticRegression"
   ]
  },
  {
   "cell_type": "code",
   "execution_count": 306,
   "id": "e38fd3b1",
   "metadata": {},
   "outputs": [],
   "source": [
    "lr=LogisticRegression()"
   ]
  },
  {
   "cell_type": "code",
   "execution_count": 307,
   "id": "977f6d3c",
   "metadata": {},
   "outputs": [],
   "source": [
    "lr_model=lr.fit(xtrain,ytrain)"
   ]
  },
  {
   "cell_type": "code",
   "execution_count": 308,
   "id": "f6ab4a95",
   "metadata": {},
   "outputs": [],
   "source": [
    "ypred_test=lr_model.predict(xtest)"
   ]
  },
  {
   "cell_type": "code",
   "execution_count": 309,
   "id": "7e4abe75",
   "metadata": {},
   "outputs": [],
   "source": [
    "from sklearn.metrics import classification_report,confusion_matrix,accuracy_score,roc_curve,roc_auc_score,precision_score,\\\n",
    "recall_score,f1_score,ConfusionMatrixDisplay,cohen_kappa_score"
   ]
  },
  {
   "cell_type": "code",
   "execution_count": 310,
   "id": "e032a4cf",
   "metadata": {},
   "outputs": [
    {
     "name": "stdout",
     "output_type": "stream",
     "text": [
      "              precision    recall  f1-score   support\n",
      "\n",
      "           0       0.85      0.96      0.90     32611\n",
      "           1       0.69      0.38      0.49      8648\n",
      "\n",
      "    accuracy                           0.83     41259\n",
      "   macro avg       0.77      0.67      0.70     41259\n",
      "weighted avg       0.82      0.83      0.82     41259\n",
      "\n"
     ]
    }
   ],
   "source": [
    "print(classification_report(ytest,ypred_test))"
   ]
  },
  {
   "cell_type": "code",
   "execution_count": 311,
   "id": "1ec41004",
   "metadata": {},
   "outputs": [],
   "source": [
    "score_card_without_smote = pd.DataFrame(columns=['Model name', 'AUC Score', 'Precision Score', 'Recall Score',\n",
    "                                       'Accuracy Score', 'Kappa Score', 'f1-score'])\n",
    "\n",
    "def update_score_card(model, name):\n",
    "    \n",
    "    y_pred_train = model.predict(xtrain)\n",
    "    y_pred_test = model.predict(xtest)\n",
    "    \n",
    "    global score_card_without_smote\n",
    "\n",
    "    score_card_without_smote = score_card_without_smote.append({'Model name' : name,\n",
    "                                    'AUC Score' : roc_auc_score(ytest, ypred_test),\n",
    "                                    'Precision Score': precision_score(ytest, ypred_test),\n",
    "                                    'Recall Score': recall_score(ytest, ypred_test),\n",
    "                                    'Accuracy Score': accuracy_score(ytest, ypred_test),\n",
    "                                    'Kappa Score': cohen_kappa_score(ytest, ypred_test),\n",
    "                                    'f1-score': f1_score(ytest, ypred_test, average='macro')}, \n",
    "                                    ignore_index = True)\n",
    "    \n",
    "    ConfusionMatrixDisplay.from_predictions(ytest,ypred_test,cmap=\"Blues\")\n",
    "    plt.show()\n",
    "\n",
    "    return(score_card_without_smote)"
   ]
  },
  {
   "cell_type": "code",
   "execution_count": 312,
   "id": "90c868cc",
   "metadata": {},
   "outputs": [
    {
     "data": {
      "image/png": "[encoded data removed]",
      "text/plain": [
       "<Figure size 640x480 with 2 Axes>"
      ]
     },
     "metadata": {},
     "output_type": "display_data"
    },
    {
     "data": {
      "text/html": [
       "<div>\n",
       "<style scoped>\n",
       "    .dataframe tbody tr th:only-of-type {\n",
       "        vertical-align: middle;\n",
       "    }\n",
       "\n",
       "    .dataframe tbody tr th {\n",
       "        vertical-align: top;\n",
       "    }\n",
       "\n",
       "    .dataframe thead th {\n",
       "        text-align: right;\n",
       "    }\n",
       "</style>\n",
       "<table border=\"1\" class=\"dataframe\">\n",
       "  <thead>\n",
       "    <tr style=\"text-align: right;\">\n",
       "      <th></th>\n",
       "      <th>Model name</th>\n",
       "      <th>AUC Score</th>\n",
       "      <th>Precision Score</th>\n",
       "      <th>Recall Score</th>\n",
       "      <th>Accuracy Score</th>\n",
       "      <th>Kappa Score</th>\n",
       "      <th>f1-score</th>\n",
       "    </tr>\n",
       "  </thead>\n",
       "  <tbody>\n",
       "    <tr>\n",
       "      <th>0</th>\n",
       "      <td>Logistic model</td>\n",
       "      <td>0.66755</td>\n",
       "      <td>0.693347</td>\n",
       "      <td>0.379625</td>\n",
       "      <td>0.834775</td>\n",
       "      <td>0.401916</td>\n",
       "      <td>0.696009</td>\n",
       "    </tr>\n",
       "  </tbody>\n",
       "</table>\n",
       "</div>"
      ],
      "text/plain": [
       "       Model name  AUC Score  Precision Score  Recall Score  Accuracy Score  \\\n",
       "0  Logistic model    0.66755         0.693347      0.379625        0.834775   \n",
       "\n",
       "   Kappa Score  f1-score  \n",
       "0     0.401916  0.696009  "
      ]
     },
     "execution_count": 312,
     "metadata": {},
     "output_type": "execute_result"
    }
   ],
   "source": [
    "update_score_card(lr_model, 'Logistic model')"
   ]
  },
  {
   "cell_type": "code",
   "execution_count": null,
   "id": "9d2a2643",
   "metadata": {},
   "outputs": [],
   "source": []
  },
  {
   "cell_type": "code",
   "execution_count": null,
   "id": "2de697de",
   "metadata": {},
   "outputs": [],
   "source": []
  },
  {
   "cell_type": "markdown",
   "id": "ff2cda50",
   "metadata": {},
   "source": [
    "### XGBoost Classifier"
   ]
  },
  {
   "cell_type": "code",
   "execution_count": 313,
   "id": "f4b24987",
   "metadata": {},
   "outputs": [],
   "source": [
    "from xgboost.sklearn import XGBClassifier"
   ]
  },
  {
   "cell_type": "code",
   "execution_count": 314,
   "id": "723d32fb",
   "metadata": {},
   "outputs": [
    {
     "data": {
      "text/html": [
       "<style>#sk-container-id-5 {color: black;background-color: white;}#sk-container-id-5 pre{padding: 0;}#sk-container-id-5 div.sk-toggleable {background-color: white;}#sk-container-id-5 label.sk-toggleable__label {cursor: pointer;display: block;width: 100%;margin-bottom: 0;padding: 0.3em;box-sizing: border-box;text-align: center;}#sk-container-id-5 label.sk-toggleable__label-arrow:before {content: \"▸\";float: left;margin-right: 0.25em;color: #696969;}#sk-container-id-5 label.sk-toggleable__label-arrow:hover:before {color: black;}#sk-container-id-5 div.sk-estimator:hover label.sk-toggleable__label-arrow:before {color: black;}#sk-container-id-5 div.sk-toggleable__content {max-height: 0;max-width: 0;overflow: hidden;text-align: left;background-color: #f0f8ff;}#sk-container-id-5 div.sk-toggleable__content pre {margin: 0.2em;color: black;border-radius: 0.25em;background-color: #f0f8ff;}#sk-container-id-5 input.sk-toggleable__control:checked~div.sk-toggleable__content {max-height: 200px;max-width: 100%;overflow: auto;}#sk-container-id-5 input.sk-toggleable__control:checked~label.sk-toggleable__label-arrow:before {content: \"▾\";}#sk-container-id-5 div.sk-estimator input.sk-toggleable__control:checked~label.sk-toggleable__label {background-color: #d4ebff;}#sk-container-id-5 div.sk-label input.sk-toggleable__control:checked~label.sk-toggleable__label {background-color: #d4ebff;}#sk-container-id-5 input.sk-hidden--visually {border: 0;clip: rect(1px 1px 1px 1px);clip: rect(1px, 1px, 1px, 1px);height: 1px;margin: -1px;overflow: hidden;padding: 0;position: absolute;width: 1px;}#sk-container-id-5 div.sk-estimator {font-family: monospace;background-color: #f0f8ff;border: 1px dotted black;border-radius: 0.25em;box-sizing: border-box;margin-bottom: 0.5em;}#sk-container-id-5 div.sk-estimator:hover {background-color: #d4ebff;}#sk-container-id-5 div.sk-parallel-item::after {content: \"\";width: 100%;border-bottom: 1px solid gray;flex-grow: 1;}#sk-container-id-5 div.sk-label:hover label.sk-toggleable__label {background-color: #d4ebff;}#sk-container-id-5 div.sk-serial::before {content: \"\";position: absolute;border-left: 1px solid gray;box-sizing: border-box;top: 0;bottom: 0;left: 50%;z-index: 0;}#sk-container-id-5 div.sk-serial {display: flex;flex-direction: column;align-items: center;background-color: white;padding-right: 0.2em;padding-left: 0.2em;position: relative;}#sk-container-id-5 div.sk-item {position: relative;z-index: 1;}#sk-container-id-5 div.sk-parallel {display: flex;align-items: stretch;justify-content: center;background-color: white;position: relative;}#sk-container-id-5 div.sk-item::before, #sk-container-id-5 div.sk-parallel-item::before {content: \"\";position: absolute;border-left: 1px solid gray;box-sizing: border-box;top: 0;bottom: 0;left: 50%;z-index: -1;}#sk-container-id-5 div.sk-parallel-item {display: flex;flex-direction: column;z-index: 1;position: relative;background-color: white;}#sk-container-id-5 div.sk-parallel-item:first-child::after {align-self: flex-end;width: 50%;}#sk-container-id-5 div.sk-parallel-item:last-child::after {align-self: flex-start;width: 50%;}#sk-container-id-5 div.sk-parallel-item:only-child::after {width: 0;}#sk-container-id-5 div.sk-dashed-wrapped {border: 1px dashed gray;margin: 0 0.4em 0.5em 0.4em;box-sizing: border-box;padding-bottom: 0.4em;background-color: white;}#sk-container-id-5 div.sk-label label {font-family: monospace;font-weight: bold;display: inline-block;line-height: 1.2em;}#sk-container-id-5 div.sk-label-container {text-align: center;}#sk-container-id-5 div.sk-container {/* jupyter's `normalize.less` sets `[hidden] { display: none; }` but bootstrap.min.css set `[hidden] { display: none !important; }` so we also need the `!important` here to be able to override the default hidden behavior on the sphinx rendered scikit-learn.org. See: https://github.com/scikit-learn/scikit-learn/issues/21755 */display: inline-block !important;position: relative;}#sk-container-id-5 div.sk-text-repr-fallback {display: none;}</style><div id=\"sk-container-id-5\" class=\"sk-top-container\"><div class=\"sk-text-repr-fallback\"><pre>XGBClassifier(base_score=None, booster=None, callbacks=None,\n",
       "              colsample_bylevel=None, colsample_bynode=None,\n",
       "              colsample_bytree=None, device=None, early_stopping_rounds=None,\n",
       "              enable_categorical=False, eval_metric=None, feature_types=None,\n",
       "              gamma=5, grow_policy=None, importance_type=None,\n",
       "              interaction_constraints=None, learning_rate=0.1, max_bin=None,\n",
       "              max_cat_threshold=None, max_cat_to_onehot=None,\n",
       "              max_delta_step=None, max_depth=6, max_leaves=None,\n",
       "              min_child_weight=None, missing=nan, monotone_constraints=None,\n",
       "              multi_strategy=None, n_estimators=150, n_jobs=None,\n",
       "              num_parallel_tree=None, random_state=None, ...)</pre><b>In a Jupyter environment, please rerun this cell to show the HTML representation or trust the notebook. <br />On GitHub, the HTML representation is unable to render, please try loading this page with nbviewer.org.</b></div><div class=\"sk-container\" hidden><div class=\"sk-item\"><div class=\"sk-estimator sk-toggleable\"><input class=\"sk-toggleable__control sk-hidden--visually\" id=\"sk-estimator-id-5\" type=\"checkbox\" checked><label for=\"sk-estimator-id-5\" class=\"sk-toggleable__label sk-toggleable__label-arrow\">XGBClassifier</label><div class=\"sk-toggleable__content\"><pre>XGBClassifier(base_score=None, booster=None, callbacks=None,\n",
       "              colsample_bylevel=None, colsample_bynode=None,\n",
       "              colsample_bytree=None, device=None, early_stopping_rounds=None,\n",
       "              enable_categorical=False, eval_metric=None, feature_types=None,\n",
       "              gamma=5, grow_policy=None, importance_type=None,\n",
       "              interaction_constraints=None, learning_rate=0.1, max_bin=None,\n",
       "              max_cat_threshold=None, max_cat_to_onehot=None,\n",
       "              max_delta_step=None, max_depth=6, max_leaves=None,\n",
       "              min_child_weight=None, missing=nan, monotone_constraints=None,\n",
       "              multi_strategy=None, n_estimators=150, n_jobs=None,\n",
       "              num_parallel_tree=None, random_state=None, ...)</pre></div></div></div></div></div>"
      ],
      "text/plain": [
       "XGBClassifier(base_score=None, booster=None, callbacks=None,\n",
       "              colsample_bylevel=None, colsample_bynode=None,\n",
       "              colsample_bytree=None, device=None, early_stopping_rounds=None,\n",
       "              enable_categorical=False, eval_metric=None, feature_types=None,\n",
       "              gamma=5, grow_policy=None, importance_type=None,\n",
       "              interaction_constraints=None, learning_rate=0.1, max_bin=None,\n",
       "              max_cat_threshold=None, max_cat_to_onehot=None,\n",
       "              max_delta_step=None, max_depth=6, max_leaves=None,\n",
       "              min_child_weight=None, missing=nan, monotone_constraints=None,\n",
       "              multi_strategy=None, n_estimators=150, n_jobs=None,\n",
       "              num_parallel_tree=None, random_state=None, ...)"
      ]
     },
     "execution_count": 314,
     "metadata": {},
     "output_type": "execute_result"
    }
   ],
   "source": [
    "xgb_model= XGBClassifier(n_estimators=150,max_depth=6,learning_rate=0.1,gamma=5)\n",
    "xgb_model.fit(xtrain, ytrain)"
   ]
  },
  {
   "cell_type": "code",
   "execution_count": 315,
   "id": "3a997c55",
   "metadata": {},
   "outputs": [],
   "source": [
    "ypred_test=xgb_model.predict(xtest)"
   ]
  },
  {
   "cell_type": "code",
   "execution_count": 316,
   "id": "b44bc8f6",
   "metadata": {},
   "outputs": [
    {
     "name": "stdout",
     "output_type": "stream",
     "text": [
      "              precision    recall  f1-score   support\n",
      "\n",
      "           0       0.89      0.95      0.92     32611\n",
      "           1       0.74      0.55      0.63      8648\n",
      "\n",
      "    accuracy                           0.87     41259\n",
      "   macro avg       0.81      0.75      0.78     41259\n",
      "weighted avg       0.86      0.87      0.86     41259\n",
      "\n"
     ]
    }
   ],
   "source": [
    "print(classification_report(ytest,ypred_test))"
   ]
  },
  {
   "cell_type": "code",
   "execution_count": 317,
   "id": "cbd9720f",
   "metadata": {},
   "outputs": [
    {
     "data": {
      "image/png": "[encoded data removed]",
      "text/plain": [
       "<Figure size 640x480 with 2 Axes>"
      ]
     },
     "metadata": {},
     "output_type": "display_data"
    },
    {
     "data": {
      "text/html": [
       "<div>\n",
       "<style scoped>\n",
       "    .dataframe tbody tr th:only-of-type {\n",
       "        vertical-align: middle;\n",
       "    }\n",
       "\n",
       "    .dataframe tbody tr th {\n",
       "        vertical-align: top;\n",
       "    }\n",
       "\n",
       "    .dataframe thead th {\n",
       "        text-align: right;\n",
       "    }\n",
       "</style>\n",
       "<table border=\"1\" class=\"dataframe\">\n",
       "  <thead>\n",
       "    <tr style=\"text-align: right;\">\n",
       "      <th></th>\n",
       "      <th>Model name</th>\n",
       "      <th>AUC Score</th>\n",
       "      <th>Precision Score</th>\n",
       "      <th>Recall Score</th>\n",
       "      <th>Accuracy Score</th>\n",
       "      <th>Kappa Score</th>\n",
       "      <th>f1-score</th>\n",
       "    </tr>\n",
       "  </thead>\n",
       "  <tbody>\n",
       "    <tr>\n",
       "      <th>0</th>\n",
       "      <td>Logistic model</td>\n",
       "      <td>0.66755</td>\n",
       "      <td>0.693347</td>\n",
       "      <td>0.379625</td>\n",
       "      <td>0.834775</td>\n",
       "      <td>0.401916</td>\n",
       "      <td>0.696009</td>\n",
       "    </tr>\n",
       "    <tr>\n",
       "      <th>1</th>\n",
       "      <td>XGboost model</td>\n",
       "      <td>0.75037</td>\n",
       "      <td>0.740919</td>\n",
       "      <td>0.551920</td>\n",
       "      <td>0.865629</td>\n",
       "      <td>0.552524</td>\n",
       "      <td>0.775192</td>\n",
       "    </tr>\n",
       "  </tbody>\n",
       "</table>\n",
       "</div>"
      ],
      "text/plain": [
       "       Model name  AUC Score  Precision Score  Recall Score  Accuracy Score  \\\n",
       "0  Logistic model    0.66755         0.693347      0.379625        0.834775   \n",
       "1   XGboost model    0.75037         0.740919      0.551920        0.865629   \n",
       "\n",
       "   Kappa Score  f1-score  \n",
       "0     0.401916  0.696009  \n",
       "1     0.552524  0.775192  "
      ]
     },
     "execution_count": 317,
     "metadata": {},
     "output_type": "execute_result"
    }
   ],
   "source": [
    "update_score_card(xgb_model, 'XGboost model')"
   ]
  },
  {
   "cell_type": "markdown",
   "id": "ac61d397",
   "metadata": {},
   "source": [
    "### submission"
   ]
  },
  {
   "cell_type": "code",
   "execution_count": 318,
   "id": "2d496a79",
   "metadata": {},
   "outputs": [],
   "source": [
    "test=pd.read_csv(\"test.csv\")"
   ]
  },
  {
   "cell_type": "code",
   "execution_count": 319,
   "id": "cbb5830e",
   "metadata": {},
   "outputs": [
    {
     "data": {
      "text/html": [
       "<div>\n",
       "<style scoped>\n",
       "    .dataframe tbody tr th:only-of-type {\n",
       "        vertical-align: middle;\n",
       "    }\n",
       "\n",
       "    .dataframe tbody tr th {\n",
       "        vertical-align: top;\n",
       "    }\n",
       "\n",
       "    .dataframe thead th {\n",
       "        text-align: right;\n",
       "    }\n",
       "</style>\n",
       "<table border=\"1\" class=\"dataframe\">\n",
       "  <thead>\n",
       "    <tr style=\"text-align: right;\">\n",
       "      <th></th>\n",
       "      <th>id</th>\n",
       "      <th>CustomerId</th>\n",
       "      <th>Surname</th>\n",
       "      <th>CreditScore</th>\n",
       "      <th>Geography</th>\n",
       "      <th>Gender</th>\n",
       "      <th>Age</th>\n",
       "      <th>Tenure</th>\n",
       "      <th>Balance</th>\n",
       "      <th>NumOfProducts</th>\n",
       "      <th>HasCrCard</th>\n",
       "      <th>IsActiveMember</th>\n",
       "      <th>EstimatedSalary</th>\n",
       "    </tr>\n",
       "  </thead>\n",
       "  <tbody>\n",
       "    <tr>\n",
       "      <th>0</th>\n",
       "      <td>165034</td>\n",
       "      <td>15773898</td>\n",
       "      <td>Lucchese</td>\n",
       "      <td>586</td>\n",
       "      <td>France</td>\n",
       "      <td>Female</td>\n",
       "      <td>23.0</td>\n",
       "      <td>2</td>\n",
       "      <td>0.00</td>\n",
       "      <td>2</td>\n",
       "      <td>0.0</td>\n",
       "      <td>1.0</td>\n",
       "      <td>160976.75</td>\n",
       "    </tr>\n",
       "    <tr>\n",
       "      <th>1</th>\n",
       "      <td>165035</td>\n",
       "      <td>15782418</td>\n",
       "      <td>Nott</td>\n",
       "      <td>683</td>\n",
       "      <td>France</td>\n",
       "      <td>Female</td>\n",
       "      <td>46.0</td>\n",
       "      <td>2</td>\n",
       "      <td>0.00</td>\n",
       "      <td>1</td>\n",
       "      <td>1.0</td>\n",
       "      <td>0.0</td>\n",
       "      <td>72549.27</td>\n",
       "    </tr>\n",
       "    <tr>\n",
       "      <th>2</th>\n",
       "      <td>165036</td>\n",
       "      <td>15807120</td>\n",
       "      <td>K?</td>\n",
       "      <td>656</td>\n",
       "      <td>France</td>\n",
       "      <td>Female</td>\n",
       "      <td>34.0</td>\n",
       "      <td>7</td>\n",
       "      <td>0.00</td>\n",
       "      <td>2</td>\n",
       "      <td>1.0</td>\n",
       "      <td>0.0</td>\n",
       "      <td>138882.09</td>\n",
       "    </tr>\n",
       "    <tr>\n",
       "      <th>3</th>\n",
       "      <td>165037</td>\n",
       "      <td>15808905</td>\n",
       "      <td>O'Donnell</td>\n",
       "      <td>681</td>\n",
       "      <td>France</td>\n",
       "      <td>Male</td>\n",
       "      <td>36.0</td>\n",
       "      <td>8</td>\n",
       "      <td>0.00</td>\n",
       "      <td>1</td>\n",
       "      <td>1.0</td>\n",
       "      <td>0.0</td>\n",
       "      <td>113931.57</td>\n",
       "    </tr>\n",
       "    <tr>\n",
       "      <th>4</th>\n",
       "      <td>165038</td>\n",
       "      <td>15607314</td>\n",
       "      <td>Higgins</td>\n",
       "      <td>752</td>\n",
       "      <td>Germany</td>\n",
       "      <td>Male</td>\n",
       "      <td>38.0</td>\n",
       "      <td>10</td>\n",
       "      <td>121263.62</td>\n",
       "      <td>1</td>\n",
       "      <td>1.0</td>\n",
       "      <td>0.0</td>\n",
       "      <td>139431.00</td>\n",
       "    </tr>\n",
       "  </tbody>\n",
       "</table>\n",
       "</div>"
      ],
      "text/plain": [
       "       id  CustomerId    Surname  CreditScore Geography  Gender   Age  Tenure  \\\n",
       "0  165034    15773898   Lucchese          586    France  Female  23.0       2   \n",
       "1  165035    15782418       Nott          683    France  Female  46.0       2   \n",
       "2  165036    15807120         K?          656    France  Female  34.0       7   \n",
       "3  165037    15808905  O'Donnell          681    France    Male  36.0       8   \n",
       "4  165038    15607314    Higgins          752   Germany    Male  38.0      10   \n",
       "\n",
       "     Balance  NumOfProducts  HasCrCard  IsActiveMember  EstimatedSalary  \n",
       "0       0.00              2        0.0             1.0        160976.75  \n",
       "1       0.00              1        1.0             0.0         72549.27  \n",
       "2       0.00              2        1.0             0.0        138882.09  \n",
       "3       0.00              1        1.0             0.0        113931.57  \n",
       "4  121263.62              1        1.0             0.0        139431.00  "
      ]
     },
     "execution_count": 319,
     "metadata": {},
     "output_type": "execute_result"
    }
   ],
   "source": [
    "test.head()"
   ]
  },
  {
   "cell_type": "code",
   "execution_count": 321,
   "id": "854a29b4",
   "metadata": {},
   "outputs": [],
   "source": [
    "submission=pd.DataFrame(test[\"id\"])"
   ]
  },
  {
   "cell_type": "code",
   "execution_count": 322,
   "id": "cb08b3c1",
   "metadata": {},
   "outputs": [],
   "source": [
    "test.drop(columns=[\"id\",\"CustomerId\",\"Surname\"],inplace=True)"
   ]
  },
  {
   "cell_type": "code",
   "execution_count": 323,
   "id": "0961a140",
   "metadata": {},
   "outputs": [],
   "source": [
    "test['cred_score']=test[\"CreditScore\"].apply(lambda x: \"350-450\" if 450>=x>=350 else \"451-550\"\n",
    "                       if 550>=x>451 else \"551-650\"\n",
    "                       if 650>=x>551 else \"651-750\"\n",
    "                       if 750>=x>651 else \"751-850\")"
   ]
  },
  {
   "cell_type": "code",
   "execution_count": 324,
   "id": "dd638588",
   "metadata": {},
   "outputs": [],
   "source": [
    "test.drop(columns=\"CreditScore\",inplace=True)"
   ]
  },
  {
   "cell_type": "code",
   "execution_count": 325,
   "id": "5f379f13",
   "metadata": {},
   "outputs": [],
   "source": [
    "scaled_test=pd.DataFrame(sc.fit_transform(test.select_dtypes(include=np.number)),columns=test.select_dtypes(include=np.number).columns)"
   ]
  },
  {
   "cell_type": "code",
   "execution_count": 326,
   "id": "1d342f7f",
   "metadata": {},
   "outputs": [],
   "source": [
    "dummy_test=pd.get_dummies(test.select_dtypes(exclude=np.number),drop_first=True)"
   ]
  },
  {
   "cell_type": "code",
   "execution_count": 327,
   "id": "e8bf1bad",
   "metadata": {},
   "outputs": [],
   "source": [
    "final_test=pd.concat([scaled_test,dummy_test],axis=1)"
   ]
  },
  {
   "cell_type": "code",
   "execution_count": 328,
   "id": "1f39b92a",
   "metadata": {},
   "outputs": [],
   "source": [
    "res=xgb_model.predict_proba(final_test)"
   ]
  },
  {
   "cell_type": "code",
   "execution_count": 329,
   "id": "be5404f4",
   "metadata": {},
   "outputs": [],
   "source": [
    "test[\"Exited\"]=np.round([i[1] for i in res],1)"
   ]
  },
  {
   "cell_type": "code",
   "execution_count": 331,
   "id": "c369f3ed",
   "metadata": {},
   "outputs": [],
   "source": [
    "submission[\"Excited\"]=test[\"Exited\"]"
   ]
  },
  {
   "cell_type": "code",
   "execution_count": 334,
   "id": "d0b8ecb1",
   "metadata": {},
   "outputs": [],
   "source": [
    "submission.to_csv(\"submission.csv\",index=None)"
   ]
  },
  {
   "cell_type": "code",
   "execution_count": 335,
   "id": "2d615094",
   "metadata": {},
   "outputs": [
    {
     "data": {
      "text/html": [
       "<div>\n",
       "<style scoped>\n",
       "    .dataframe tbody tr th:only-of-type {\n",
       "        vertical-align: middle;\n",
       "    }\n",
       "\n",
       "    .dataframe tbody tr th {\n",
       "        vertical-align: top;\n",
       "    }\n",
       "\n",
       "    .dataframe thead th {\n",
       "        text-align: right;\n",
       "    }\n",
       "</style>\n",
       "<table border=\"1\" class=\"dataframe\">\n",
       "  <thead>\n",
       "    <tr style=\"text-align: right;\">\n",
       "      <th></th>\n",
       "      <th>id</th>\n",
       "      <th>Excited</th>\n",
       "    </tr>\n",
       "  </thead>\n",
       "  <tbody>\n",
       "    <tr>\n",
       "      <th>0</th>\n",
       "      <td>165034</td>\n",
       "      <td>0.0</td>\n",
       "    </tr>\n",
       "    <tr>\n",
       "      <th>1</th>\n",
       "      <td>165035</td>\n",
       "      <td>0.8</td>\n",
       "    </tr>\n",
       "    <tr>\n",
       "      <th>2</th>\n",
       "      <td>165036</td>\n",
       "      <td>0.0</td>\n",
       "    </tr>\n",
       "    <tr>\n",
       "      <th>3</th>\n",
       "      <td>165037</td>\n",
       "      <td>0.2</td>\n",
       "    </tr>\n",
       "    <tr>\n",
       "      <th>4</th>\n",
       "      <td>165038</td>\n",
       "      <td>0.4</td>\n",
       "    </tr>\n",
       "    <tr>\n",
       "      <th>...</th>\n",
       "      <td>...</td>\n",
       "      <td>...</td>\n",
       "    </tr>\n",
       "    <tr>\n",
       "      <th>110018</th>\n",
       "      <td>275052</td>\n",
       "      <td>0.0</td>\n",
       "    </tr>\n",
       "    <tr>\n",
       "      <th>110019</th>\n",
       "      <td>275053</td>\n",
       "      <td>0.1</td>\n",
       "    </tr>\n",
       "    <tr>\n",
       "      <th>110020</th>\n",
       "      <td>275054</td>\n",
       "      <td>0.0</td>\n",
       "    </tr>\n",
       "    <tr>\n",
       "      <th>110021</th>\n",
       "      <td>275055</td>\n",
       "      <td>0.2</td>\n",
       "    </tr>\n",
       "    <tr>\n",
       "      <th>110022</th>\n",
       "      <td>275056</td>\n",
       "      <td>0.2</td>\n",
       "    </tr>\n",
       "  </tbody>\n",
       "</table>\n",
       "<p>110023 rows × 2 columns</p>\n",
       "</div>"
      ],
      "text/plain": [
       "            id  Excited\n",
       "0       165034      0.0\n",
       "1       165035      0.8\n",
       "2       165036      0.0\n",
       "3       165037      0.2\n",
       "4       165038      0.4\n",
       "...        ...      ...\n",
       "110018  275052      0.0\n",
       "110019  275053      0.1\n",
       "110020  275054      0.0\n",
       "110021  275055      0.2\n",
       "110022  275056      0.2\n",
       "\n",
       "[110023 rows x 2 columns]"
      ]
     },
     "execution_count": 335,
     "metadata": {},
     "output_type": "execute_result"
    }
   ],
   "source": [
    "pd.read_csv(\"submission.csv\")"
   ]
  },
  {
   "cell_type": "code",
   "execution_count": null,
   "id": "62ba4232",
   "metadata": {},
   "outputs": [],
   "source": []
  }
 ],
 "metadata": {
  "kernelspec": {
   "display_name": "Python 3 (ipykernel)",
   "language": "python",
   "name": "python3"
  },
  "language_info": {
   "codemirror_mode": {
    "name": "ipython",
    "version": 3
   },
   "file_extension": ".py",
   "mimetype": "text/x-python",
   "name": "python",
   "nbconvert_exporter": "python",
   "pygments_lexer": "ipython3",
   "version": "3.10.9"
  }
 },
 "nbformat": 4,
 "nbformat_minor": 5
}
